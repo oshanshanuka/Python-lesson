{
 "cells": [
  {
   "cell_type": "code",
   "execution_count": null,
   "id": "e767485b",
   "metadata": {},
   "outputs": [
    {
     "name": "stdout",
     "output_type": "stream",
     "text": [
      "30\n"
     ]
    }
   ],
   "source": [
    "# Day 3 : 2025/06/18 \n",
    "# Q1) answer\n",
    "\n",
    "num_1= 10\n",
    "num_2= 20\n",
    "num_3= 30\n",
    "\n",
    "if num_1 > num_2 and num_1 > num_3:\n",
    "    large_num = num_1\n",
    "elif num_2 > num_1 and num_2 > num_3:\n",
    "    large_num = num_2\n",
    "else:\n",
    "    large_num = num_3\n",
    "\n",
    "    print(large_num)"
   ]
  },
  {
   "cell_type": "code",
   "execution_count": null,
   "id": "ff4c2c60",
   "metadata": {},
   "outputs": [
    {
     "name": "stdout",
     "output_type": "stream",
     "text": [
      "30 20 10\n"
     ]
    }
   ],
   "source": [
    "# Q2) answer\n",
    "# Sort three numbers in descending order\n",
    "\n",
    "x= 10\n",
    "y= 20\n",
    "z= 30\n",
    "\n",
    "if x >= y and x >= z:\n",
    "    if y >= z:\n",
    "        print(x, y, z)\n",
    "    else:\n",
    "        print(x, z, y)\n",
    "elif y >= x and y >= z:\n",
    "    if x >= z:\n",
    "        print(y, x, z)\n",
    "    else:\n",
    "        print(y, z, x)\n",
    "else:\n",
    "    if x >= y:\n",
    "        print(z, x, y)\n",
    "    else:\n",
    "        print(z, y, x)"
   ]
  },
  {
   "cell_type": "code",
   "execution_count": null,
   "id": "59d6868c",
   "metadata": {},
   "outputs": [
    {
     "name": "stdout",
     "output_type": "stream",
     "text": [
      "Even\n"
     ]
    }
   ],
   "source": [
    "# Turnary operator\n",
    "\n",
    "x = 10\n",
    "result = \"Even\" if x % 2 == 0 else \"Odd\"\n",
    "print(result)"
   ]
  },
  {
   "cell_type": "code",
   "execution_count": null,
   "id": "f5a02499",
   "metadata": {},
   "outputs": [
    {
     "name": "stdout",
     "output_type": "stream",
     "text": [
      "5\n"
     ]
    }
   ],
   "source": [
    "# Q3) answer\n",
    "# Calculate absolute value using ternary operator\n",
    "x = -5\n",
    "abs_value = x if x >= 0 else -x\n",
    "print (abs_value)\n"
   ]
  },
  {
   "cell_type": "code",
   "execution_count": null,
   "id": "aa990436",
   "metadata": {},
   "outputs": [
    {
     "name": "stdout",
     "output_type": "stream",
     "text": [
      "Variable is 10\n"
     ]
    }
   ],
   "source": [
    "# Structural Pattern Matching (Switch Case)\n",
    "\n",
    "variable = 10\n",
    "\n",
    "match variable:\n",
    "    case 9:\n",
    "        print(\"Variable is 9\")\n",
    "    case 10:\n",
    "        print(\"Variable is 10\")\n",
    "    case 11:\n",
    "        print(\"Variable is 11\")\n",
    "    case _:\n",
    "        print(\"Variable is something else\")"
   ]
  },
  {
   "cell_type": "code",
   "execution_count": 1,
   "id": "bf65e2f1",
   "metadata": {},
   "outputs": [
    {
     "name": "stdout",
     "output_type": "stream",
     "text": [
      "Tuesday\n"
     ]
    }
   ],
   "source": [
    "# Q4)\n",
    "\n",
    "num_1 = int(input(\"Enter a number: \"))\n",
    "\n",
    "match num_1:\n",
    "    case 1:\n",
    "        print(\"Monday\")\n",
    "    case 2:\n",
    "        print(\"Tuesday\")    \n",
    "    case 3:\n",
    "        print(\"Wednesday\")  \n",
    "    case 4:\n",
    "        print(\"Thursday\")\n",
    "    case 5: \n",
    "        print(\"Friday\")\n",
    "    case 6:\n",
    "        print(\"Saturday\")\n",
    "    case 7:\n",
    "        print(\"Sunday\")\n",
    "    case _:\n",
    "        print(\"Invalid number\")"
   ]
  },
  {
   "cell_type": "code",
   "execution_count": null,
   "id": "0e5aeb27",
   "metadata": {},
   "outputs": [
    {
     "name": "stdout",
     "output_type": "stream",
     "text": [
      "stop\n"
     ]
    }
   ],
   "source": [
    "num_1 = input(\"Enter a color red, yellow, green: \")\n",
    "match num_1:\n",
    "    case \"red\" | \"blinking\":\n",
    "        print(\"stop\")\n",
    "    case \"yellow\":\n",
    "        print(\"slow\")\n",
    "    case \"green\":\n",
    "        print(\"go\")\n",
    "    case _:\n",
    "        print(\"Invalid color\")"
   ]
  },
  {
   "cell_type": "code",
   "execution_count": null,
   "id": "6cc8c43e",
   "metadata": {},
   "outputs": [
    {
     "name": "stdout",
     "output_type": "stream",
     "text": [
      "12\n"
     ]
    }
   ],
   "source": [
    "#Matching by the length of an iterable\n",
    "\n",
    "number = [4,3,5]\n",
    "\n",
    "match number:\n",
    "    case [x,y]:\n",
    "        print(x * y)\n",
    "    case [x, y, z]:\n",
    "        print(x + y + z)\n",
    "    case _:\n",
    "        print(\"Invalid number\")"
   ]
  },
  {
   "cell_type": "code",
   "execution_count": null,
   "id": "cfa42f28",
   "metadata": {},
   "outputs": [
    {
     "name": "stdout",
     "output_type": "stream",
     "text": [
      "-40\n",
      "30.0\n"
     ]
    }
   ],
   "source": [
    "# Q6)\n",
    "\n",
    "tempature = [20,20,40,40]\n",
    "\n",
    "match tempature:\n",
    "    case [w,x]:\n",
    "        ave = (w + x) / 2\n",
    "        print(ave)\n",
    "    case [w,x, y,z]:\n",
    "        diff_temp = (w+x) - (y+z)\n",
    "        print(diff_temp)\n",
    "        sum_temp = w + x + y + z\n",
    "        print(sum_temp / 4)\n",
    "    case _:\n",
    "        print(\"Unsupported number of reading\")\n"
   ]
  },
  {
   "cell_type": "code",
   "execution_count": 1,
   "id": "ead94beb",
   "metadata": {},
   "outputs": [
    {
     "name": "stdout",
     "output_type": "stream",
     "text": [
      "12\n",
      "8\n",
      "12\n"
     ]
    }
   ],
   "source": [
    "my_list = [12,5,8,9,12]\n",
    "\n",
    "for item  in my_list:\n",
    "    if item % 2 == 0:\n",
    "        print(item)"
   ]
  },
  {
   "cell_type": "code",
   "execution_count": 6,
   "id": "762165e6",
   "metadata": {},
   "outputs": [
    {
     "name": "stdout",
     "output_type": "stream",
     "text": [
      "Square of 1 is 1\n",
      "Square of 2 is 4\n",
      "Square of 3 is 9\n",
      "Square of 4 is 16\n",
      "Square of 5 is 25\n",
      "Square of 6 is 36\n",
      "Square of 7 is 49\n",
      "Square of 8 is 64\n",
      "Square of 9 is 81\n",
      "Square of 10 is 100\n"
     ]
    }
   ],
   "source": [
    "# Q7)\n",
    "\n",
    "my_list = [1,2,3,4,5,6,7,8,9.10]\n",
    "\n",
    "for i in range(1, 11):\n",
    "    print(f\"Square of {i} is {i**2}\") "
   ]
  },
  {
   "cell_type": "code",
   "execution_count": null,
   "id": "8aa195ae",
   "metadata": {},
   "outputs": [
    {
     "name": "stdout",
     "output_type": "stream",
     "text": [
      "1\n",
      "4\n",
      "9\n"
     ]
    }
   ],
   "source": [
    "# Q8)\n",
    "# Print squares of numbers less than a given number\n",
    "\n",
    "# n = int(input(\"Enter a number: \"))\n",
    "# if n < 0 :\n",
    "#     print(\"Please enter a positive number.\")\n",
    "# else:\n",
    "#     for i in range(1, n):\n",
    "#         square = i ** 2\n",
    "#         if square < n:\n",
    "#             print(square)\n",
    "\n",
    "num = int(input(\"Enter a number: \"))\n",
    "\n",
    "for i in range(1, num):\n",
    "    square = i ** 2\n",
    "    if square < num:\n",
    "        print(square)\n",
    "    else:\n",
    "        break"
   ]
  },
  {
   "cell_type": "code",
   "execution_count": null,
   "id": "e4473d6f",
   "metadata": {},
   "outputs": [
    {
     "name": "stdout",
     "output_type": "stream",
     "text": [
      "Number not found\n"
     ]
    }
   ],
   "source": [
    "# Q9)\n",
    "# Search for a number in a list(Linear Search)\n",
    "\n",
    "my_list = [5, 8, 12, 7, 3, 9, 15]\n",
    "target = int(input(\"Enter number to search: \"))\n",
    "\n",
    "found = False\n",
    "\n",
    "for num in my_list:\n",
    "    if num == target:\n",
    "        found = True\n",
    "        break\n",
    "\n",
    "if found:\n",
    "    print(\"Number found\")\n",
    "else:\n",
    "    print(\"Number not found\")"
   ]
  },
  {
   "cell_type": "code",
   "execution_count": null,
   "id": "ebe76a52",
   "metadata": {},
   "outputs": [
    {
     "name": "stdout",
     "output_type": "stream",
     "text": [
      "Maximum value is: 25\n"
     ]
    }
   ],
   "source": [
    "# Q9)\n",
    "\n",
    "my_list = [5, 8, 12, 7, 3, 9, 25]\n",
    "\n",
    "max_value = my_list[0]\n",
    "for num in my_list:\n",
    "    if num > max_value:\n",
    "        max_value = num \n",
    "\n",
    "print(\"Maximum value is:\", max_value)"
   ]
  },
  {
   "cell_type": "code",
   "execution_count": null,
   "id": "e9320db2",
   "metadata": {},
   "outputs": [
    {
     "name": "stdout",
     "output_type": "stream",
     "text": [
      "[25, 100, 144, 49, 64]\n"
     ]
    }
   ],
   "source": [
    "# Q10) for loop list comprehension\n",
    "\n",
    "my_list = [5,10,12,7,8]\n",
    "result = [item**2 for item in my_list]\n",
    "print(result)"
   ]
  },
  {
   "cell_type": "code",
   "execution_count": null,
   "id": "9bd661d0",
   "metadata": {},
   "outputs": [
    {
     "name": "stdout",
     "output_type": "stream",
     "text": [
      "[4, 16, 36, 64, 100]\n"
     ]
    }
   ],
   "source": [
    "# Q11)\n",
    "\n",
    "even_squares = [x**2 for x in range(1, 11) if x % 2 == 0]\n",
    "print(even_squares)"
   ]
  },
  {
   "cell_type": "code",
   "execution_count": null,
   "id": "c3ccb732",
   "metadata": {},
   "outputs": [
    {
     "name": "stdout",
     "output_type": "stream",
     "text": [
      "1\n",
      "2\n",
      "3\n"
     ]
    }
   ],
   "source": [
    "# Q12) while loop\n",
    "\n",
    "n = input(\"Enter a positive integer: \")\n",
    "\n",
    "count = 0\n",
    "\n",
    "while count < n-1:\n",
    "    count += 1\n",
    "    print(count)\n",
    "\n",
    "# n = input(\"Enter a positive integer: \")\n",
    "\n",
    "# while int(n) <= 0:\n",
    "#     n = input(\"Invalid input. Please enter a positive integer: \")\n",
    "\n",
    "# n = int(n)\n",
    "# i = 1\n",
    "# while i < n:\n",
    "#     print(i)\n",
    "#     i += 1"
   ]
  },
  {
   "cell_type": "code",
   "execution_count": 15,
   "id": "31e33e8e",
   "metadata": {},
   "outputs": [
    {
     "name": "stdout",
     "output_type": "stream",
     "text": [
      "Reverse number: 4321\n"
     ]
    }
   ],
   "source": [
    "num = 1234\n",
    "reverse_num = 0\n",
    "\n",
    "while num > 0:\n",
    "    digit = num % 10\n",
    "    reverse_num = reverse_num * 10 + digit\n",
    "    num //= 10\n",
    "\n",
    "print(\"Reverse number:\", reverse_num)"
   ]
  }
 ],
 "metadata": {
  "kernelspec": {
   "display_name": "Python 3",
   "language": "python",
   "name": "python3"
  },
  "language_info": {
   "codemirror_mode": {
    "name": "ipython",
    "version": 3
   },
   "file_extension": ".py",
   "mimetype": "text/x-python",
   "name": "python",
   "nbconvert_exporter": "python",
   "pygments_lexer": "ipython3",
   "version": "3.13.4"
  }
 },
 "nbformat": 4,
 "nbformat_minor": 5
}
