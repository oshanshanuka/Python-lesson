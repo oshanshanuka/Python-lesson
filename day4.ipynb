{
 "cells": [
  {
   "cell_type": "code",
   "execution_count": 2,
   "id": "d02ea5d8",
   "metadata": {},
   "outputs": [
    {
     "name": "stdout",
     "output_type": "stream",
     "text": [
      "17\n"
     ]
    }
   ],
   "source": [
    "def add_number(a,b):\n",
    "    return a+b\n",
    "print(add_number(8,9))"
   ]
  },
  {
   "cell_type": "code",
   "execution_count": null,
   "id": "14233c41",
   "metadata": {},
   "outputs": [
    {
     "name": "stdout",
     "output_type": "stream",
     "text": [
      "5\n"
     ]
    }
   ],
   "source": [
    "# Q1) answer\n",
    "\n",
    "def count_even_numbers(my_list):\n",
    "    count = 0\n",
    "    for number in my_list:\n",
    "        if number % 2 == 0:\n",
    "            count += 1\n",
    "    return count\n",
    "my_list = [1, 2, 3, 4, 5, 6, 7, 8, 9, 10]\n",
    "print(count_even_numbers(my_list))"
   ]
  },
  {
   "cell_type": "code",
   "execution_count": null,
   "id": "8a1291e3",
   "metadata": {},
   "outputs": [
    {
     "name": "stdout",
     "output_type": "stream",
     "text": [
      "25\n"
     ]
    }
   ],
   "source": [
    "# Q2) answer\n",
    "\n",
    "def find_max(lst):\n",
    "    max_value = lst[0]\n",
    "    for number in lst:\n",
    "        if number > max_value:\n",
    "            max_value = number\n",
    "    return max_value\n",
    "lst = [4,6,2,9,22,15,25]\n",
    "print(find_max(lst))    "
   ]
  },
  {
   "cell_type": "code",
   "execution_count": 12,
   "id": "d8ba9a84",
   "metadata": {},
   "outputs": [
    {
     "name": "stdout",
     "output_type": "stream",
     "text": [
      "[4, 5, 6, 7, 2, 1]\n"
     ]
    }
   ],
   "source": [
    "# Q3) answer\n",
    "\n",
    "def remove_duplicates(lst):\n",
    "    non_duplicate_values = []\n",
    "    for item in lst:\n",
    "        if item not in non_duplicate_values:\n",
    "            non_duplicate_values.append(item)\n",
    "    return non_duplicate_values \n",
    "lst = [4,5,5,6,6,7,2,1,1]\n",
    "print(remove_duplicates(lst))\n",
    "        "
   ]
  },
  {
   "cell_type": "code",
   "execution_count": null,
   "id": "c1d6d2be",
   "metadata": {},
   "outputs": [
    {
     "name": "stdout",
     "output_type": "stream",
     "text": [
      "1\n"
     ]
    }
   ],
   "source": [
    "# Q5) answer\n",
    "\n",
    "def factorial(n):\n",
    "    result = 1\n",
    "    for i in range( 1,n + 1):\n",
    "        result *= i\n",
    "    return result\n",
    "\n",
    "print(factorial(5))"
   ]
  },
  {
   "cell_type": "code",
   "execution_count": 28,
   "id": "3e8cf490",
   "metadata": {},
   "outputs": [
    {
     "name": "stdout",
     "output_type": "stream",
     "text": [
      "15\n",
      "17\n"
     ]
    }
   ],
   "source": [
    "def add_numbers(a,b=8):\n",
    "    return a +b \n",
    "\n",
    "print(add_numbers(9,6))\n",
    "print(add_numbers(9))"
   ]
  },
  {
   "cell_type": "code",
   "execution_count": 30,
   "id": "cd4b34fe",
   "metadata": {},
   "outputs": [
    {
     "name": "stdout",
     "output_type": "stream",
     "text": [
      "81\n",
      "25\n"
     ]
    }
   ],
   "source": [
    "# Q5) answer\n",
    "\n",
    "def power(number, exponent=2):\n",
    "    return number ** exponent\n",
    "\n",
    "print(power(3, 4))\n",
    "print(power(5))      "
   ]
  },
  {
   "cell_type": "code",
   "execution_count": 31,
   "id": "d6920bbb",
   "metadata": {},
   "outputs": [
    {
     "name": "stdout",
     "output_type": "stream",
     "text": [
      "a: 10\n",
      "b: 5\n",
      "a: 4\n",
      "b: 8\n"
     ]
    }
   ],
   "source": [
    "def display_numbers(a,b):\n",
    "    print(\"a:\", a)\n",
    "    print(\"b:\", b)\n",
    "\n",
    "display_numbers(b=5,a=10)\n",
    "display_numbers(a=4,b=8)"
   ]
  },
  {
   "cell_type": "code",
   "execution_count": 38,
   "id": "ac5acd63",
   "metadata": {},
   "outputs": [
    {
     "name": "stdout",
     "output_type": "stream",
     "text": [
      "9000.0\n",
      "13500.0\n",
      "8500.0\n"
     ]
    }
   ],
   "source": [
    "# Q6) answer\n",
    "\n",
    "def net_salary(base,bonus=0,tax=10/100):\n",
    "    with_bonus_salary = base + bonus\n",
    "    net_salary = with_bonus_salary - (with_bonus_salary*tax)\n",
    "    return net_salary\n",
    "print(net_salary(10000))\n",
    "print(net_salary(10000,5000))\n",
    "print(net_salary(10000, tax=0.15))\n",
    "    "
   ]
  },
  {
   "cell_type": "code",
   "execution_count": null,
   "id": "aa7ddfea",
   "metadata": {},
   "outputs": [
    {
     "name": "stdout",
     "output_type": "stream",
     "text": [
      "(1, 2, 3, 4, 5)\n",
      "<class 'tuple'>\n"
     ]
    }
   ],
   "source": [
    "def arbitary_positional(*args):\n",
    "    print(args)\n",
    "    print(type(args))\n",
    "\n",
    "arbitary_positional(1, 2, 3, 4, 5)"
   ]
  },
  {
   "cell_type": "code",
   "execution_count": 42,
   "id": "e359804d",
   "metadata": {},
   "outputs": [
    {
     "name": "stdout",
     "output_type": "stream",
     "text": [
      "(1, 2, 3, 4, 5)\n",
      "<class 'tuple'>\n",
      "1\n",
      "2\n",
      "3\n",
      "4\n",
      "5\n"
     ]
    }
   ],
   "source": [
    "def arbitary_positional(*args):\n",
    "    print(args)\n",
    "    print(type(args))\n",
    "\n",
    "    for arg in args:\n",
    "        print(arg)\n",
    "\n",
    "arbitary_positional(1, 2, 3, 4, 5)"
   ]
  },
  {
   "cell_type": "code",
   "execution_count": null,
   "id": "205f4012",
   "metadata": {},
   "outputs": [
    {
     "name": "stdout",
     "output_type": "stream",
     "text": [
      "120\n",
      "1\n"
     ]
    }
   ],
   "source": [
    "# arbitrary positiunal\n",
    "\n",
    "def multiply_all(*args):\n",
    "    result = 1\n",
    "    for arg in args:\n",
    "        result *= arg\n",
    "    return result\n",
    "\n",
    "print(multiply_all(1, 2, 3, 4, 5))\n",
    "print(multiply_all())\n",
    "\n"
   ]
  },
  {
   "cell_type": "code",
   "execution_count": 55,
   "id": "1084cd10",
   "metadata": {},
   "outputs": [
    {
     "name": "stdout",
     "output_type": "stream",
     "text": [
      "name\n",
      "age\n",
      "city\n",
      "John\n",
      "28\n",
      "colombo\n",
      "key: name , value: John\n",
      "key: age , value: 28\n",
      "key: city , value: colombo\n"
     ]
    }
   ],
   "source": [
    "dict = {\n",
    "    \"name\": \"John\",\n",
    "    \"age\": 28,\n",
    "    \"city\": \"colombo\"\n",
    "}\n",
    "\n",
    "for key in dict.keys():\n",
    "    print(key)\n",
    "\n",
    "for value in dict.values():\n",
    "    print(value)\n",
    "\n",
    "for key, value in dict.items():\n",
    "    print(\"key:\",key,\", value:\" ,value)"
   ]
  },
  {
   "cell_type": "code",
   "execution_count": 64,
   "id": "960372fa",
   "metadata": {},
   "outputs": [
    {
     "name": "stdout",
     "output_type": "stream",
     "text": [
      "{'name': 'John', 'age': 28, 'city': 'Colombo'}\n",
      "<class 'dict'>\n",
      "name : John\n",
      "age : 28\n",
      "city : Colombo\n"
     ]
    }
   ],
   "source": [
    "# arbitrary keyword arguments(**kwargs)\n",
    " \n",
    "def arbitrary_keyword_arguments(**kwargs):\n",
    "    print(kwargs)\n",
    "    print(type(kwargs))\n",
    "\n",
    "    for key, value in kwargs.items():\n",
    "        print(key,\":\", value)\n",
    "\n",
    "arbitrary_keyword_arguments(name=\"John\", age=28, city=\"Colombo\")\n",
    "\n"
   ]
  },
  {
   "cell_type": "code",
   "execution_count": null,
   "id": "5e92a0d8",
   "metadata": {},
   "outputs": [
    {
     "name": "stdout",
     "output_type": "stream",
     "text": [
      "S01 : Oshan\n",
      "S02 : Vihana\n",
      "S03 : Nomin\n",
      "S04 : Dumindu\n",
      "S05 : Jaga\n"
     ]
    }
   ],
   "source": [
    "# Q7) answer\n",
    "\n",
    "def add_students(**kwargs):\n",
    "    students = {}\n",
    "    for key, value in kwargs.items():\n",
    "        students[key] = value\n",
    "    return students\n",
    "\n",
    "def display_students(students):\n",
    "    for key, value in students.items():\n",
    "        print(key ,\":\", value)\n",
    "\n",
    "students = add_students(S01=\"Oshan\", S02=\"Vihana\", S03=\"Nomin\", S04=\"Dumindu\", S05=\"Jaga\")\n",
    "display_students(students)"
   ]
  },
  {
   "cell_type": "code",
   "execution_count": null,
   "id": "54795d79",
   "metadata": {},
   "outputs": [
    {
     "name": "stdout",
     "output_type": "stream",
     "text": [
      "[36, 25, 9, 16, 64]\n"
     ]
    }
   ],
   "source": [
    "# Map function example\n",
    "\n",
    "def find_square(x):\n",
    "    return x**2\n",
    "\n",
    "my_list = [6,5,3,4,8]\n",
    "square_values = map(find_square, my_list)\n",
    "print(list(square_values))"
   ]
  },
  {
   "cell_type": "code",
   "execution_count": null,
   "id": "bf2770c8",
   "metadata": {},
   "outputs": [
    {
     "name": "stdout",
     "output_type": "stream",
     "text": [
      "[32.0, 68.0, 98.6, 212.0, 14.0]\n"
     ]
    }
   ],
   "source": [
    "# Q8) answer\n",
    "\n",
    "# sir solution\n",
    "def convert(celcius):\n",
    "    fahrenheit= (celcius * 9/5) + 32\n",
    "    return fahrenheit\n",
    "\n",
    "def convert_to_fahrenheit(celcius_values):\n",
    "    fahrenheit_values = list(map(convert, celcius_values))\n",
    "    return fahrenheit_values\n",
    "\n",
    "celsius_values = [0, 20, 37, 100, -10]\n",
    "print(convert_to_fahrenheit(celsius_values))\n",
    "\n",
    "# My solution\n",
    "\n",
    "# def temperature_conversion(celsius):\n",
    "#     return (celsius * 9/5) + 32\n",
    "# celsius_values = [0, 20, 37, 100,-10]\n",
    "# fahrenheit_values = map(temperature_conversion, celsius_values)\n",
    "# print(list(fahrenheit_values))"
   ]
  },
  {
   "cell_type": "code",
   "execution_count": null,
   "id": "1d2d7aea",
   "metadata": {},
   "outputs": [
    {
     "name": "stdout",
     "output_type": "stream",
     "text": [
      "[2, 4, 6, 8, 10]\n"
     ]
    }
   ],
   "source": [
    "# filter function example\n",
    "\n",
    "my_list = [1,2,3,4,5,6,7,8,9,10]\n",
    "\n",
    "def is_even(number):\n",
    "    return number % 2 == 0\n",
    "even_numbers = filter(is_even,my_list)\n",
    "print(list(even_numbers))"
   ]
  },
  {
   "cell_type": "code",
   "execution_count": 89,
   "id": "81d02db1",
   "metadata": {},
   "outputs": [
    {
     "name": "stdout",
     "output_type": "stream",
     "text": [
      "7\n",
      "7\n"
     ]
    }
   ],
   "source": [
    "# Lambda function example\n",
    "\n",
    "add = lambda x,y: x + y\n",
    "print(add(4,3))\n",
    "\n",
    "# variable ekta assign nokra directly call krla\n",
    "print((lambda x,y: x + y)(4,3))"
   ]
  },
  {
   "cell_type": "code",
   "execution_count": null,
   "metadata": {},
   "outputs": [
    {
     "name": "stdout",
     "output_type": "stream",
     "text": [
      "[4, 6, 8, 10]\n"
     ]
    }
   ],
   "source": [
    "# Q9) answer\n",
    "\n",
    "my_list = [2, 3, 4, 5]\n",
    "double_numbers = list(map(lambda x: x * 2, my_list))\n",
    "print(double_numbers)"
   ]
  },
  {
   "cell_type": "code",
   "execution_count": null,
   "id": "69a667f3",
   "metadata": {},
   "outputs": [
    {
     "name": "stdout",
     "output_type": "stream",
     "text": [
      "[12, 18, 22, 16]\n"
     ]
    }
   ],
   "source": [
    "# Q10) answer\n",
    "\n",
    "numbers = [12,18,17,15,22,23,16]\n",
    "even_numbers = list(filter(lambda x: x % 2 == 0, numbers))\n",
    "print(even_numbers)"
   ]
  },
  {
   "cell_type": "code",
   "execution_count": 95,
   "id": "8f72b063",
   "metadata": {},
   "outputs": [
    {
     "name": "stdout",
     "output_type": "stream",
     "text": [
      "20\n"
     ]
    }
   ],
   "source": [
    "# Q11) answer\n",
    "\n",
    "largest = lambda x, y: x if x > y else y\n",
    "print(largest(10, 20))"
   ]
  }
 ],
 "metadata": {
  "kernelspec": {
   "display_name": "Python 3",
   "language": "python",
   "name": "python3"
  },
  "language_info": {
   "codemirror_mode": {
    "name": "ipython",
    "version": 3
   },
   "file_extension": ".py",
   "mimetype": "text/x-python",
   "name": "python",
   "nbconvert_exporter": "python",
   "pygments_lexer": "ipython3",
   "version": "3.13.4"
  }
 },
 "nbformat": 4,
 "nbformat_minor": 5
}
