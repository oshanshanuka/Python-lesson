{
 "cells": [
  {
   "cell_type": "code",
   "execution_count": null,
   "id": "8c5f3efd",
   "metadata": {},
   "outputs": [],
   "source": [
    "a=20\n",
    "b=30\n",
    "print(a+b)"
   ]
  },
  {
   "cell_type": "code",
   "execution_count": null,
   "id": "48000159",
   "metadata": {},
   "outputs": [],
   "source": [
    "num_1=10\n",
    "num_2=20\n",
    "print(num_1+num_2)\n"
   ]
  }
 ],
 "metadata": {
  "kernelspec": {
   "display_name": "Python 3",
   "language": "python",
   "name": "python3"
  },
  "language_info": {
   "name": "python",
   "version": "3.13.4"
  }
 },
 "nbformat": 4,
 "nbformat_minor": 5
}
