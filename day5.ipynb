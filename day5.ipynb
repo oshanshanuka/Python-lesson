{
 "cells": [
  {
   "cell_type": "code",
   "execution_count": null,
   "id": "a7434c72",
   "metadata": {},
   "outputs": [
    {
     "name": "stdout",
     "output_type": "stream",
     "text": [
      "46\n"
     ]
    }
   ],
   "source": [
    "# sum function\n",
    "\n",
    "my_list = [10,9,12,15]\n",
    "\n",
    "print(sum(my_list))\n",
    "\n",
    "# start(my_list,10)\n",
    "\n",
    "\n"
   ]
  },
  {
   "cell_type": "code",
   "execution_count": null,
   "id": "010c5b17",
   "metadata": {},
   "outputs": [
    {
     "name": "stdout",
     "output_type": "stream",
     "text": [
      "True\n",
      "False\n",
      "True\n",
      "True\n",
      "False\n",
      "True\n"
     ]
    }
   ],
   "source": [
    "# isinstance\n",
    "\n",
    "a=10\n",
    "print(isinstance(a,int))\n",
    "\n",
    "x=10.5\n",
    "print(isinstance(x,int))\n",
    "print(isinstance(x,float))\n",
    "\n",
    "x=\"oshan\"\n",
    "print(isinstance(x, str))\n",
    "\n",
    "x=\"oshan\"\n",
    "print(isinstance(x,(int,float)))\n",
    "\n",
    "# isinstance with a list\n",
    "my_list = [10, 20, 30]\n",
    "print(isinstance(my_list, list))\n",
    "\n",
    "# isinstance with a tuple\n",
    "my_tuple = (10, 20, 30)\n",
    "print(isinstance(my_tuple, tuple))"
   ]
  },
  {
   "cell_type": "code",
   "execution_count": null,
   "id": "001436c1",
   "metadata": {},
   "outputs": [
    {
     "name": "stdout",
     "output_type": "stream",
     "text": [
      "My name is Oshan and I am 22 years old.\n"
     ]
    }
   ],
   "source": [
    "# f-strings\n",
    "name = \"Oshan\"\n",
    "age = 22\n",
    "\n",
    "print(f\"My name is {name} and I am {age} years old.\")"
   ]
  },
  {
   "cell_type": "code",
   "execution_count": 2,
   "id": "b6b5ab84",
   "metadata": {},
   "outputs": [
    {
     "name": "stdout",
     "output_type": "stream",
     "text": [
      "\n",
      "0\n"
     ]
    }
   ],
   "source": [
    "class Student:\n",
    "    name = \"\"\n",
    "    age = 0\n",
    "\n",
    "student_1 = Student()\n",
    "print(student_1.name)\n",
    "print(student_1.age)"
   ]
  },
  {
   "cell_type": "code",
   "execution_count": 11,
   "id": "a0e8cfe3",
   "metadata": {},
   "outputs": [
    {
     "name": "stdout",
     "output_type": "stream",
     "text": [
      "This car has 4 wheels.\n",
      "This car is drive to galle on 4 wheels.\n"
     ]
    }
   ],
   "source": [
    "class Car:\n",
    "    wheels = 4\n",
    "\n",
    "    def display_info(self):\n",
    "        print(f\"This car has {self.wheels} wheels.\")\n",
    "\n",
    "    def drive_to(self, destination):\n",
    "        print(f\"This car is drive to {destination} on {self.wheels} wheels.\")\n",
    "\n",
    "car_1 = Car()\n",
    "car_1.display_info()\n",
    "car_1.drive_to(\"galle\")"
   ]
  },
  {
   "cell_type": "code",
   "execution_count": 17,
   "id": "fe7f18a4",
   "metadata": {},
   "outputs": [
    {
     "name": "stdout",
     "output_type": "stream",
     "text": [
      "Constructor called\n",
      "Red color Toyota car has 4 wheels.\n",
      "Red color Toyota car is driving to office on 4 wheels.\n"
     ]
    }
   ],
   "source": [
    "class Car:\n",
    "    wheels = 4\n",
    "\n",
    "    def __init__(self, brand, color):\n",
    "        print(\"Constructor called\")\n",
    "        self.brand = brand\n",
    "        self.color = color\n",
    "\n",
    "    def drive_to(self, destination):\n",
    "        print(f\"{self.color} color {self.brand} car is driving to {destination} on {self.wheels} wheels.\")\n",
    "\n",
    "    def display_info(self):\n",
    "        print(f\"{self.color} color {self.brand} car has {self.wheels} wheels.\")\n",
    "\n",
    "car_1 = Car(\"Toyota\", \"Red\")\n",
    "car_1.display_info()\n",
    "car_1.drive_to(\"office\")\n"
   ]
  },
  {
   "cell_type": "code",
   "execution_count": null,
   "id": "33e05624",
   "metadata": {},
   "outputs": [
    {
     "name": "stdout",
     "output_type": "stream",
     "text": [
      "Area: 15\n",
      "Perimeter: 16\n"
     ]
    }
   ],
   "source": [
    "class Rectangle:\n",
    "    def __init__(self, length, width):\n",
    "        self.length = length\n",
    "        self.width = width\n",
    "\n",
    "    def area(self):\n",
    "        return self.length * self.width\n",
    "    \n",
    "    def perimeter(self):\n",
    "        return 2 * (self.length + self.width)\n",
    "    \n",
    "rect = Rectangle(5, 3)\n",
    "print(f\"Area: {rect.area()}\")\n",
    "print(f\"Perimeter: {rect.perimeter()}\")\n",
    "\n"
   ]
  },
  {
   "cell_type": "code",
   "execution_count": null,
   "id": "e2cd10f7",
   "metadata": {},
   "outputs": [
    {
     "name": "stdout",
     "output_type": "stream",
     "text": [
      "The area is: 50\n",
      "The perimeter is: 30\n"
     ]
    }
   ],
   "source": [
    "# Q1) Answer\n",
    "\n",
    "class Rectangle:\n",
    "    def __init__(self, length, width):\n",
    "        self.length = length\n",
    "        self.width = width\n",
    "\n",
    "    def area(self):\n",
    "        return self.length * self.width\n",
    "\n",
    "    def get_perimeter(self):\n",
    "        return 2 * (self.length + self.width)\n",
    "\n",
    "    def described(self):\n",
    "        area = self.area()\n",
    "        perimeter = self.get_perimeter()\n",
    "        print(f\"The area is: {area}\")\n",
    "        print(f\"The perimeter is: {perimeter}\")\n",
    "\n",
    "rect1 = Rectangle(10, 5)\n",
    "rect1.described()\n",
    "\n",
    "# sir answer\n",
    "# class Rectangle:\n",
    "#     def __init__(self, length, width):\n",
    "#         self.length = length\n",
    "#         self.width = width\n",
    "\n",
    "#     def area(self):\n",
    "#         return self.length * self.width\n",
    "\n",
    "#     def get_perimeter(self):\n",
    "#         return 2 * (self.length + self.width)\n",
    "    \n",
    "#     def describe(self):\n",
    "#         print(f\"The area is: {self.area()} and the perimeter is {self.get_perimeter()}.\")\n",
    "\n",
    "# rect1 = Rectangle(10, 5)\n",
    "# rect1.describe()"
   ]
  }
 ],
 "metadata": {
  "kernelspec": {
   "display_name": "Python 3",
   "language": "python",
   "name": "python3"
  },
  "language_info": {
   "codemirror_mode": {
    "name": "ipython",
    "version": 3
   },
   "file_extension": ".py",
   "mimetype": "text/x-python",
   "name": "python",
   "nbconvert_exporter": "python",
   "pygments_lexer": "ipython3",
   "version": "3.13.4"
  }
 },
 "nbformat": 4,
 "nbformat_minor": 5
}
