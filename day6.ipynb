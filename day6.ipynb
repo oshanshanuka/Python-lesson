{
 "cells": [
  {
   "cell_type": "code",
   "execution_count": 1,
   "id": "c3aa9479",
   "metadata": {},
   "outputs": [
    {
     "name": "stdout",
     "output_type": "stream",
     "text": [
      "Animal speak\n"
     ]
    }
   ],
   "source": [
    "# inheritance in python\n",
    "\n",
    "class Animal :\n",
    "    def speak(self):\n",
    "        print(\"Animal speak\")\n",
    "\n",
    "class Parrot(Animal):\n",
    "    def display_info(self):\n",
    "        print(\"speak\")\n",
    "\n",
    "parrot_1 = Parrot()\n",
    "parrot_1.speak()"
   ]
  },
  {
   "cell_type": "code",
   "execution_count": 2,
   "id": "1d547e73",
   "metadata": {},
   "outputs": [
    {
     "name": "stdout",
     "output_type": "stream",
     "text": [
      "Parrot speak\n"
     ]
    }
   ],
   "source": [
    "# method override in python\n",
    "\n",
    "class Animal :\n",
    "    def speak(self):\n",
    "        print(\"Animal speak\")\n",
    "\n",
    "class Parrot(Animal):\n",
    "    def display_info(self):\n",
    "        print(\"speak\")\n",
    "\n",
    "# overriding the speak method from super class\n",
    "    def speak(self): \n",
    "        print(\"Parrot speak\")  \n",
    "\n",
    "parrot_1 = Parrot()\n",
    "parrot_1.speak()"
   ]
  },
  {
   "cell_type": "code",
   "execution_count": 4,
   "id": "6c6b4ea1",
   "metadata": {},
   "outputs": [
    {
     "name": "stdout",
     "output_type": "stream",
     "text": [
      "john\n"
     ]
    }
   ],
   "source": [
    "# create a object in sub class\n",
    "\n",
    "class Animal:\n",
    "    def __init__(self,name):\n",
    "        self.name = name\n",
    "\n",
    "class Parrot(Animal):\n",
    "    def speak(self):\n",
    "        print(\"animal speak\")\n",
    "        \n",
    "parrot_1 = Parrot(\"john\")\n",
    "print(parrot_1.name)\n"
   ]
  },
  {
   "cell_type": "code",
   "execution_count": 6,
   "id": "c4042d93",
   "metadata": {},
   "outputs": [
    {
     "name": "stdout",
     "output_type": "stream",
     "text": [
      "john\n",
      "green\n"
     ]
    }
   ],
   "source": [
    "class Animal:\n",
    "    def __init__(self,name):\n",
    "        self.name = name\n",
    "\n",
    "class Parrot(Animal):\n",
    "    def __init__(self, name,color):\n",
    "        self.color = color\n",
    "        super().__init__(name)\n",
    "\n",
    "    def speak(self):\n",
    "        print(\"animal speak\")\n",
    "        \n",
    "parrot_1 = Parrot(\"john\",\"green\")\n",
    "print(parrot_1.name)\n",
    "print(parrot_1.color)"
   ]
  },
  {
   "cell_type": "code",
   "execution_count": null,
   "id": "04657041",
   "metadata": {},
   "outputs": [
    {
     "name": "stdout",
     "output_type": "stream",
     "text": [
      "Oshan\n",
      "200000\n",
      "Dep1\n",
      "Name: Oshan, Salary: 200000\n",
      "Department: Dep1\n"
     ]
    }
   ],
   "source": [
    "# Q1)\n",
    "class Employee:\n",
    "    def __init__(self,name,salary):\n",
    "        self.name = name\n",
    "        self.salary = salary\n",
    "\n",
    "    def display_info(self):\n",
    "        print(f\"Name: {self.name}, Salary: {self.salary}\")\n",
    "\n",
    "class Manager(Employee):\n",
    "    def __init__(self, name, salary, department):\n",
    "        self.department = department\n",
    "        super().__init__(name, salary)\n",
    "\n",
    "    def display_info(self):\n",
    "        super().display_info()\n",
    "        print(f\"Department: {self.department}\") \n",
    "\n",
    "Manager_1 = Manager(\"Oshan\",200000,\"Dep1\")\n",
    "print(Manager_1.name)\n",
    "print(Manager_1.salary)\n",
    "print(Manager_1.department)\n",
    "\n",
    "Manager_1.display_info()\n",
    "        "
   ]
  },
  {
   "cell_type": "code",
   "execution_count": 11,
   "id": "6c3f3018",
   "metadata": {},
   "outputs": [
    {
     "name": "stdout",
     "output_type": "stream",
     "text": [
      "oshan\n",
      "oshan\n"
     ]
    }
   ],
   "source": [
    "# Polimorphism in python\n",
    "\n",
    "class Person:\n",
    "    def __init__(self):\n",
    "        self._name = \"oshan\"\n",
    "\n",
    "class Employee(Person):\n",
    "    def display(self):\n",
    "        print(self._name)\n",
    "        \n",
    "emp_1 = Employee()\n",
    "print(emp_1._name)\n",
    "emp_1.display()"
   ]
  },
  {
   "cell_type": "code",
   "execution_count": null,
   "id": "a1ca41d5",
   "metadata": {},
   "outputs": [
    {
     "name": "stdout",
     "output_type": "stream",
     "text": [
      "oshan\n"
     ]
    }
   ],
   "source": [
    "class Person:\n",
    "    def __init__(self):\n",
    "        self.__name = \"oshan\"\n",
    "\n",
    "    def get_name(self):\n",
    "        return self.__name\n",
    "    \n",
    "p = Person()\n",
    "print(p.get_name())\n",
    "print(p.__name)  # This will raise an AttributeError since __name is private"
   ]
  },
  {
   "cell_type": "code",
   "execution_count": null,
   "id": "59f7c759",
   "metadata": {},
   "outputs": [
    {
     "name": "stdout",
     "output_type": "stream",
     "text": [
      "Owner Name: Oshan, Current Balance: 1000.0\n",
      "Deposited: 500, New Balance: 1500.0\n",
      "Invalid withdrawal amount or insufficient balance.\n",
      "1500.0\n"
     ]
    }
   ],
   "source": [
    "# Q2)\n",
    "\n",
    "class BankAccount:\n",
    "    def __init__(self,account_number, owner_name, balance=0.0):\n",
    "        self.__account_number = account_number\n",
    "        self.__owner_name = owner_name\n",
    "        self.__balance = balance\n",
    "    \n",
    "    def display_account(self):\n",
    "        print(f\"Owner Name: {self.__owner_name}, Current Balance: {self.__balance}\")\n",
    "\n",
    "    def deposit_amount(self, amount):\n",
    "         if amount > 0:\n",
    "             self.__balance += amount\n",
    "             print(f\"Deposited: {amount}, New Balance: {self.__balance}\")\n",
    "         else:\n",
    "             print(\"Invalid deposit amount. Please enter a positive value.\")\n",
    "\n",
    "    def withdraw_amount(self, amount):\n",
    "        if amount > 0 and amount <= self.__balance:\n",
    "            self.__balance -= amount\n",
    "            print(f\"Withdraw: {amount}, New Balance: {self.__balance}\")\n",
    "        else:\n",
    "            print(\"Invalid withdrawal amount or insufficient balance.\")\n",
    "\n",
    "    def get_balance(self):\n",
    "        return self.__balance\n",
    " \n",
    "    def validate_amount(self, amount):\n",
    "        if amount <= 0:\n",
    "            return False\n",
    "        else:\n",
    "            return True\n",
    "        \n",
    "account = BankAccount(\"123456789\", \"Oshan\", 1000.0)\n",
    "account.display_account()\n",
    "account.deposit_amount(500)\n",
    "account.withdraw_amount(200)\n",
    "print(account.get_balance())\n",
    "        "
   ]
  },
  {
   "cell_type": "code",
   "execution_count": 25,
   "id": "09cd3ed9",
   "metadata": {},
   "outputs": [],
   "source": [
    "# # Q2) answer\n",
    "\n",
    "# class BankAccount:\n",
    "#     def __init__(self,account_number, owner_name, balance=0.0):\n",
    "#         self.__account_number = account_number\n",
    "#         self.__owner_name = owner_name\n",
    "#         self.__balance = balance\n",
    "    \n",
    "#     def display_account(self):\n",
    "#         print(f\"Owner Name: {self.__owner_name}, Current Balance: {self.__balance}\")\n",
    "\n",
    "#     def __validate_amount(amount):\n",
    "#         return amount > 0\n",
    "\n",
    "#     def deposit_amount(self, amount):\n",
    "#          if self.__validate_amount(amount):\n",
    "#              self.__balance += amount\n",
    "#          else:\n",
    "#              print(\"Invalid amount\")\n",
    "\n",
    "#     def withdraw_amount(self, amount):\n",
    "#         if self.__validate_amount(amount):\n",
    "#             if self.__balance >= amount:\n",
    "#                 self.__balance -= amount\n",
    "#             else:\n",
    "#                 print(\"Insufficient balance\")\n",
    "#         else:\n",
    "#             print(\"Invalid amount\")\n",
    "\n",
    "#     def get_balance(self):\n",
    "#         return self.__balance\n",
    "\n",
    "# account = BankAccount(\"123456789\", \"Oshan\", 1000.0)\n",
    "# account.display_account()\n",
    "# account.deposit_amount(500)\n",
    "# account.withdraw_amount(200)"
   ]
  },
  {
   "cell_type": "code",
   "execution_count": 28,
   "id": "9531742f",
   "metadata": {},
   "outputs": [
    {
     "name": "stdout",
     "output_type": "stream",
     "text": [
      "Hi Guys! Hope everthing is good. I'm fine too.\n",
      "This is much better.\n",
      "This is even better.\n",
      "I love AI.\n"
     ]
    }
   ],
   "source": [
    "# file handling in python\n",
    "\n",
    "# file ek open kirimta\n",
    "file_1 = open(\"my_file.txt\")\n",
    "file_1 = open(\"my_file.txt\", \"r\")\n",
    "\n",
    "# file ek read kirimta\n",
    "read_content = file_1.read()\n",
    "print(read_content)\n",
    "\n",
    "# file ek close kirimta\n",
    "file_1.close()"
   ]
  },
  {
   "cell_type": "code",
   "execution_count": 33,
   "id": "5a74de45",
   "metadata": {},
   "outputs": [
    {
     "name": "stdout",
     "output_type": "stream",
     "text": [
      "Hi Guys! Hope everthing is good. I'm fine too.\n",
      "\n",
      "This is much better.\n",
      "\n",
      "This is even better.\n",
      "\n",
      "I love AI.\n"
     ]
    }
   ],
   "source": [
    "# line ekk read krnna \n",
    "\n",
    "file_1 = open(\"my_file.txt\", \"r\")\n",
    "\n",
    "line_1 = file_1.readline()\n",
    "print(line_1)\n",
    "\n",
    "line_2 = file_1.readline()\n",
    "print(line_2)\n",
    "\n",
    "line_3 = file_1.readline()\n",
    "print(line_3)\n",
    "\n",
    "line_4 = file_1.readline()\n",
    "print(line_4)\n",
    "\n",
    "file_1.close()"
   ]
  },
  {
   "cell_type": "code",
   "execution_count": 34,
   "id": "e33d0af7",
   "metadata": {},
   "outputs": [
    {
     "name": "stdout",
     "output_type": "stream",
     "text": [
      "Hi Guys! Hope everthing is good. I'm fine too.\n",
      "This is much better.\n",
      "This is even better.\n",
      "I love AI.\n"
     ]
    }
   ],
   "source": [
    "# read by using while loop\n",
    "\n",
    "file_1 = open(\"my_file.txt\", \"r\")\n",
    "while True:\n",
    "    line = file_1.readline()\n",
    "    if not line:\n",
    "        break\n",
    "    print(line.strip())"
   ]
  },
  {
   "cell_type": "code",
   "execution_count": 36,
   "id": "8d0427b1",
   "metadata": {},
   "outputs": [
    {
     "name": "stdout",
     "output_type": "stream",
     "text": [
      "[\"Hi Guys! Hope everthing is good. I'm fine too.\\n\", 'This is much better.\\n', 'This is even better.\\n', 'I love AI.']\n"
     ]
    }
   ],
   "source": [
    "# read by using readlines()\n",
    "file_1 = open(\"my_file.txt\", \"r\")\n",
    "Lines = file_1.readlines()\n",
    "print(Lines)\n",
    "file_1.close()"
   ]
  },
  {
   "cell_type": "code",
   "execution_count": null,
   "id": "aaa94c9d",
   "metadata": {},
   "outputs": [
    {
     "name": "stdout",
     "output_type": "stream",
     "text": [
      "Hi Guys! Hope everthing is good. I'm fine too.\n",
      "This is much better.\n",
      "This is even better.\n",
      "I love AI.\n"
     ]
    }
   ],
   "source": [
    "# read by using readlines() and print each line \n",
    "\n",
    "file_1 = open(\"my_file.txt\", \"r\")\n",
    "Lines = file_1.readlines()\n",
    "for line in Lines:\n",
    "    print(line.strip())\n",
    "\n",
    "file_1.close()"
   ]
  },
  {
   "cell_type": "code",
   "execution_count": 38,
   "id": "9245d28f",
   "metadata": {},
   "outputs": [
    {
     "name": "stdout",
     "output_type": "stream",
     "text": [
      "Hi Guys! Hope everthing is good. I'm fine too.\n",
      "This is much better.\n",
      "This is even better.\n",
      "I love AI.\n"
     ]
    }
   ],
   "source": [
    "# using with\n",
    "\n",
    "with open(\"my_file.txt\", \"r\") as file_1:\n",
    "    print(file_1.read())"
   ]
  },
  {
   "cell_type": "code",
   "execution_count": 1,
   "id": "e8b98727",
   "metadata": {},
   "outputs": [],
   "source": [
    "# using with to write to a file\n",
    "\n",
    "with open(\"my_file.txt\", \"w\") as file_1:\n",
    "    file_1.write(\"This is awesome.\\n\")\n",
    "    file_1.write(\"Programming is fun.\\n\")\n",
    "\n",
    "    # my_file.txt eke mewa print wela"
   ]
  },
  {
   "cell_type": "code",
   "execution_count": 2,
   "id": "b8cc1d7a",
   "metadata": {},
   "outputs": [],
   "source": [
    "with open(\"my_file.txt\", \"w\") as file_1:\n",
    "    file_1.write(\"Hellow world.\\n\")\n",
    "\n",
    "# klin file ekt aluth ewa add krddi file eke klin thibba ewa remove wenw"
   ]
  },
  {
   "cell_type": "code",
   "execution_count": null,
   "id": "c816c4ba",
   "metadata": {},
   "outputs": [],
   "source": [
    "# writelines() to write multiple lines to a file\n",
    "\n",
    "with open(\"my_file.txt\", \"w\") as file_1:\n",
    "    Lines = [\"The is new\\n\",\"Read new file\\n\"]\n",
    "    file_1.writelines(Lines)"
   ]
  },
  {
   "cell_type": "code",
   "execution_count": 50,
   "id": "c90d3c07",
   "metadata": {},
   "outputs": [],
   "source": [
    "# add sentence using append\n",
    "\n",
    "with open(\"my_file.txt\", \"a\") as file_1:\n",
    "    Lines = [\"Hellow world.\\n\"]\n",
    "    file_1.writelines(Lines)    "
   ]
  },
  {
   "cell_type": "code",
   "execution_count": null,
   "id": "d88432d7",
   "metadata": {},
   "outputs": [
    {
     "name": "stdout",
     "output_type": "stream",
     "text": [
      "<class 'dict'>\n",
      "{'name': 'John Doe', 'age': 30, 'isStudent': False, 'hobbies': ['reading', 'gardening', 'swimming']}\n"
     ]
    }
   ],
   "source": [
    "# json file handling\n",
    "\n",
    "import json\n",
    "\n",
    "with open(\"test.json\",\"r\") as json_file:\n",
    "    data = json.load(json_file)\n",
    "    print(type(data))\n",
    "    print(data)"
   ]
  },
  {
   "cell_type": "code",
   "execution_count": null,
   "id": "055131ba",
   "metadata": {},
   "outputs": [],
   "source": [
    "# write a json file\n",
    "\n",
    "import json\n",
    "\n",
    "data = {\n",
    "    \"name\": \"Oshan\",\n",
    "    \"age\": 22,\n",
    "    \"city\": \"Colombo\"\n",
    "}\n",
    "\n",
    "with open(\"my_json.json\",\"w\") as json_file:\n",
    "    json.dump(data, json_file, indent=4)\n",
    "\n",
    "# run kr pasu my_json.json file ekk hdila athi\n"
   ]
  },
  {
   "cell_type": "code",
   "execution_count": 57,
   "id": "5bdef95c",
   "metadata": {},
   "outputs": [
    {
     "name": "stdout",
     "output_type": "stream",
     "text": [
      "<class '_csv.reader'>\n",
      "['Name', 'Age', 'Occupation']\n",
      "['John Doe', '30', 'Engineer']\n",
      "['Jane Smith', '25', 'Teacher']\n",
      "['Bob Johnson', '40', 'Doctor']\n",
      "['Alice Brown', '35', 'Artist']\n"
     ]
    }
   ],
   "source": [
    "# csv file handling\n",
    "\n",
    "import csv\n",
    "\n",
    "with open(\"test.csv\", \"r\") as csv_file:\n",
    "    csv_reader = csv.reader(csv_file)\n",
    "    print(type(csv_reader))\n",
    "\n",
    "    for row in csv_reader:\n",
    "        print(row)"
   ]
  },
  {
   "cell_type": "code",
   "execution_count": 60,
   "id": "f4c90ed7",
   "metadata": {},
   "outputs": [
    {
     "name": "stdout",
     "output_type": "stream",
     "text": [
      "<class 'csv.DictReader'>\n",
      "{'Name': 'John Doe', 'Age': '30', 'Occupation': 'Engineer'}\n",
      "{'Name': 'Jane Smith', 'Age': '25', 'Occupation': 'Teacher'}\n",
      "{'Name': 'Bob Johnson', 'Age': '40', 'Occupation': 'Doctor'}\n",
      "{'Name': 'Alice Brown', 'Age': '35', 'Occupation': 'Artist'}\n"
     ]
    }
   ],
   "source": [
    "# print a dictionary\n",
    "\n",
    "import csv\n",
    "\n",
    "with open(\"test.csv\", \"r\") as csv_file:\n",
    "    csv_reader = csv.DictReader(csv_file)\n",
    "    print(type(csv_reader))\n",
    "\n",
    "    for row in csv_reader:\n",
    "        print(row)"
   ]
  },
  {
   "cell_type": "code",
   "execution_count": 3,
   "id": "d5a18a9d",
   "metadata": {},
   "outputs": [],
   "source": [
    "# write a csv file\n",
    "\n",
    "import csv\n",
    "\n",
    "with open(\"test_write.csv\", \"w\", newline='') as csv_file:\n",
    "    csv_writer = csv.writer(csv_file)\n",
    "    csv_writer.writerow([\"Name\", \"Age\", \"City\"])\n",
    "    csv_writer.writerow([\"Oshan\", 22, \"Colombo\"])\n",
    "    csv_writer.writerow([\"John\", 30, \"New York\"])\n",
    "    csv_writer.writerow([\"Alice\", 25, \"London\"])"
   ]
  },
  {
   "cell_type": "code",
   "execution_count": 1,
   "id": "49cd3c80",
   "metadata": {},
   "outputs": [],
   "source": [
    "# create a json file with multiple records\n",
    "\n",
    "import json\n",
    "\n",
    "data = [\n",
    "    {\"Name\":\"John\", \"Age\": 30, \"City\": \"New York\"},\n",
    "    {\"Name\":\"Alice\", \"Age\": 25, \"City\": \"London\"},\n",
    "    {\"Name\":\"Oshan\", \"Age\": 22, \"City\": \"Colombo\"}\n",
    "]\n",
    "\n",
    "fieldnames = [\"Name\", \"Age\", \"City\"]\n",
    "with open(\"test_write.json\", \"w\") as json_file:\n",
    "    json.dump(data, json_file, indent=4)\n"
   ]
  },
  {
   "cell_type": "code",
   "execution_count": 65,
   "id": "ebe6896c",
   "metadata": {},
   "outputs": [
    {
     "ename": "ValueError",
     "evalue": "I/O operation on closed file.",
     "output_type": "error",
     "traceback": [
      "\u001b[31m---------------------------------------------------------------------------\u001b[39m",
      "\u001b[31mValueError\u001b[39m                                Traceback (most recent call last)",
      "\u001b[36mCell\u001b[39m\u001b[36m \u001b[39m\u001b[32mIn[65]\u001b[39m\u001b[32m, line 13\u001b[39m\n\u001b[32m     11\u001b[39m \u001b[38;5;28;01mwith\u001b[39;00m \u001b[38;5;28mopen\u001b[39m(\u001b[33m\"\u001b[39m\u001b[33mmy_csv.csv\u001b[39m\u001b[33m\"\u001b[39m, \u001b[33m\"\u001b[39m\u001b[33mw\u001b[39m\u001b[33m\"\u001b[39m, newline=\u001b[33m'\u001b[39m\u001b[33m'\u001b[39m) \u001b[38;5;28;01mas\u001b[39;00m json_file:\n\u001b[32m     12\u001b[39m     writer = csv.DictWriter(csv_file, fieldnames=fieldnames)\n\u001b[32m---> \u001b[39m\u001b[32m13\u001b[39m     \u001b[43mwriter\u001b[49m\u001b[43m.\u001b[49m\u001b[43mwriteheader\u001b[49m\u001b[43m(\u001b[49m\u001b[43m)\u001b[49m  \u001b[38;5;66;03m# Write the header row\u001b[39;00m\n\u001b[32m     14\u001b[39m     writer.writerows(data)  \u001b[38;5;66;03m# Write all records at once\u001b[39;00m\n",
      "\u001b[36mFile \u001b[39m\u001b[32mc:\\Users\\HP\\AppData\\Local\\Programs\\Python\\Python313\\Lib\\csv.py:215\u001b[39m, in \u001b[36mDictWriter.writeheader\u001b[39m\u001b[34m(self)\u001b[39m\n\u001b[32m    213\u001b[39m \u001b[38;5;28;01mdef\u001b[39;00m\u001b[38;5;250m \u001b[39m\u001b[34mwriteheader\u001b[39m(\u001b[38;5;28mself\u001b[39m):\n\u001b[32m    214\u001b[39m     header = \u001b[38;5;28mdict\u001b[39m(\u001b[38;5;28mzip\u001b[39m(\u001b[38;5;28mself\u001b[39m.fieldnames, \u001b[38;5;28mself\u001b[39m.fieldnames))\n\u001b[32m--> \u001b[39m\u001b[32m215\u001b[39m     \u001b[38;5;28;01mreturn\u001b[39;00m \u001b[38;5;28;43mself\u001b[39;49m\u001b[43m.\u001b[49m\u001b[43mwriterow\u001b[49m\u001b[43m(\u001b[49m\u001b[43mheader\u001b[49m\u001b[43m)\u001b[49m\n",
      "\u001b[36mFile \u001b[39m\u001b[32mc:\\Users\\HP\\AppData\\Local\\Programs\\Python\\Python313\\Lib\\csv.py:226\u001b[39m, in \u001b[36mDictWriter.writerow\u001b[39m\u001b[34m(self, rowdict)\u001b[39m\n\u001b[32m    225\u001b[39m \u001b[38;5;28;01mdef\u001b[39;00m\u001b[38;5;250m \u001b[39m\u001b[34mwriterow\u001b[39m(\u001b[38;5;28mself\u001b[39m, rowdict):\n\u001b[32m--> \u001b[39m\u001b[32m226\u001b[39m     \u001b[38;5;28;01mreturn\u001b[39;00m \u001b[38;5;28;43mself\u001b[39;49m\u001b[43m.\u001b[49m\u001b[43mwriter\u001b[49m\u001b[43m.\u001b[49m\u001b[43mwriterow\u001b[49m\u001b[43m(\u001b[49m\u001b[38;5;28;43mself\u001b[39;49m\u001b[43m.\u001b[49m\u001b[43m_dict_to_list\u001b[49m\u001b[43m(\u001b[49m\u001b[43mrowdict\u001b[49m\u001b[43m)\u001b[49m\u001b[43m)\u001b[49m\n",
      "\u001b[31mValueError\u001b[39m: I/O operation on closed file."
     ]
    }
   ],
   "source": [
    "import json\n",
    "\n",
    "data = [\n",
    "    {\"Name\":\"John\", \"Age\": 30, \"City\": \"New York\"},\n",
    "    {\"Name\":\"Alice\", \"Age\": 25, \"City\": \"London\"},\n",
    "    {\"Name\":\"Oshan\", \"Age\": 22, \"City\": \"Colombo\"}\n",
    "]\n",
    "\n",
    "fieldnames = [\"Name\", \"Age\", \"City\"]\n",
    "\n",
    "with open(\"my_csv.csv\", \"w\", newline='') as json_file:\n",
    "    writer = csv.DictWriter(csv_file, fieldnames=fieldnames)\n",
    "    writer.writeheader()  # Write the header row\n",
    "    writer.writerows(data)  # Write all records at once\n",
    "        "
   ]
  }
 ],
 "metadata": {
  "kernelspec": {
   "display_name": "Python 3",
   "language": "python",
   "name": "python3"
  },
  "language_info": {
   "codemirror_mode": {
    "name": "ipython",
    "version": 3
   },
   "file_extension": ".py",
   "mimetype": "text/x-python",
   "name": "python",
   "nbconvert_exporter": "python",
   "pygments_lexer": "ipython3",
   "version": "3.13.4"
  }
 },
 "nbformat": 4,
 "nbformat_minor": 5
}
