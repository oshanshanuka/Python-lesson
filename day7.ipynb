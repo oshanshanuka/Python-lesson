{
 "cells": [
  {
   "cell_type": "code",
   "execution_count": 1,
   "id": "335c3ddc",
   "metadata": {},
   "outputs": [
    {
     "name": "stdout",
     "output_type": "stream",
     "text": [
      "[2 3 4 5 6 7]\n",
      "<class 'numpy.ndarray'>\n"
     ]
    }
   ],
   "source": [
    "import numpy as np\n",
    "\n",
    "a = np.array([2,3,4,5,6,7])\n",
    "print(a)\n",
    "print(type(a))"
   ]
  },
  {
   "cell_type": "code",
   "execution_count": 2,
   "id": "f4a2354f",
   "metadata": {},
   "outputs": [
    {
     "name": "stdout",
     "output_type": "stream",
     "text": [
      "[ 8 10 12  4  5  6]\n",
      "[ 7 16 27  0  0  0]\n",
      "[-6 -6 -6  4  5  6]\n"
     ]
    }
   ],
   "source": [
    "import numpy as np\n",
    "\n",
    "a = np.array([1,2,3,4,5,6])\n",
    "b = np.array([7,8,9,0,0,0])\n",
    "\n",
    "print(a + b)\n",
    "print(a*b)\n",
    "print(a-b)"
   ]
  },
  {
   "cell_type": "code",
   "execution_count": 3,
   "id": "14a2ebae",
   "metadata": {},
   "outputs": [
    {
     "name": "stdout",
     "output_type": "stream",
     "text": [
      "[1.41421356 1.73205081 2.         2.23606798 2.44948974 2.64575131\n",
      " 2.82842712]\n",
      "35\n",
      "5.0\n",
      "8\n",
      "2\n"
     ]
    }
   ],
   "source": [
    "import numpy \n",
    "\n",
    "arr = numpy.array([2,3,4,5,6,7,8])\n",
    "\n",
    "# squrt values in array. each item\n",
    "print(numpy.sqrt(arr))\n",
    "\n",
    "# sum of the array\n",
    "print(numpy.sum(arr))\n",
    "\n",
    "# average get in an array\n",
    "print(numpy.mean(arr))\n",
    "\n",
    "# max value in array\n",
    "print(numpy.max(arr))\n",
    "\n",
    "# min value in array\n",
    "print(numpy.min(arr))"
   ]
  },
  {
   "cell_type": "code",
   "execution_count": 8,
   "id": "594ff655",
   "metadata": {},
   "outputs": [
    {
     "name": "stdout",
     "output_type": "stream",
     "text": [
      "[[ 9 10  5]\n",
      " [ 4 12 20]]\n",
      "6\n",
      "2\n",
      "(2, 3)\n"
     ]
    }
   ],
   "source": [
    "arr_1 = np.array([[9,10,5],[4,12,20]])\n",
    "print(arr_1)\n",
    "print(arr_1.size)\n",
    "print(arr_1.ndim)\n",
    "print(arr_1.shape)"
   ]
  },
  {
   "cell_type": "code",
   "execution_count": 12,
   "id": "666361c5",
   "metadata": {},
   "outputs": [
    {
     "name": "stdout",
     "output_type": "stream",
     "text": [
      "[[[ 8  3  1]\n",
      "  [ 5  9  8]]\n",
      "\n",
      " [[20 10 11]\n",
      "  [ 4 12 20]]]\n",
      "12\n",
      "3\n",
      "(2, 2, 3)\n"
     ]
    }
   ],
   "source": [
    "arr_1 = np.array([[[8,3,1],[5,9,8]],[[20,10,11],[4,12,20]]])\n",
    "print(arr_1)\n",
    "print(arr_1.size)\n",
    "print(arr_1.ndim)\n",
    "print(arr_1.shape)\n"
   ]
  },
  {
   "cell_type": "code",
   "execution_count": 9,
   "id": "20068f17",
   "metadata": {},
   "outputs": [
    {
     "name": "stdout",
     "output_type": "stream",
     "text": [
      "int64\n",
      "float64\n",
      "int64\n"
     ]
    }
   ],
   "source": [
    "# Data types in numpy arrays(dtype)\n",
    "import numpy as np\n",
    "\n",
    "arr_1 = np.array([5,7,9,2])\n",
    "print(arr_1.dtype)\n",
    "\n",
    "# Changing one data type to float \n",
    "arr_1 = np.array([5,7,9,2,10,2.2])\n",
    "print(arr_1.dtype)\n",
    "\n",
    "## Changing one data type to boolean  \n",
    "arr_1 = np.array([5,7,9,2,10,True])\n",
    "print(arr_1.dtype)\n",
    "\n"
   ]
  },
  {
   "cell_type": "code",
   "execution_count": null,
   "id": "801e383f",
   "metadata": {},
   "outputs": [
    {
     "name": "stdout",
     "output_type": "stream",
     "text": [
      "5\n",
      "9\n",
      "8\n",
      "4\n"
     ]
    }
   ],
   "source": [
    "# array indexing\n",
    "import numpy as np\n",
    "\n",
    "arr_1 = np.array([5,9,11,4])\n",
    "print(arr_1[0])  # First element\n",
    "print(arr_1[1])  # Second element\n",
    "\n",
    "arr_2 = np.array([[5,9,11],[4,6,8]])\n",
    "print(arr_2[1, 2])  \n",
    "\n",
    "# Negative indexing\n",
    "print(arr_2[-2,-2]) "
   ]
  },
  {
   "cell_type": "code",
   "execution_count": 11,
   "id": "ae917ac6",
   "metadata": {},
   "outputs": [
    {
     "name": "stdout",
     "output_type": "stream",
     "text": [
      "[False False  True  True  True]\n",
      "[30 40 50]\n",
      "[30 40 50]\n"
     ]
    }
   ],
   "source": [
    "# Boolean indexing\n",
    "\n",
    "arr_1 = np.array([10,20,30,40,50])\n",
    "condition = arr_1 > 25\n",
    "print(condition)\n",
    "\n",
    "print(arr_1[condition])  #condition eke true wena values print wenawa\n",
    "\n",
    "print(arr_1[arr_1 > 25])  #uda ek one line ekkin\n"
   ]
  },
  {
   "cell_type": "code",
   "execution_count": 13,
   "id": "8ec9e220",
   "metadata": {},
   "outputs": [
    {
     "name": "stdout",
     "output_type": "stream",
     "text": [
      "[30 40]\n"
     ]
    }
   ],
   "source": [
    "arr_1 = np.array([10,20,30,40,50])\n",
    "print(arr_1[(arr_1 > 25) & (arr_1 < 45)]) \n",
    "\n",
    "# & and\n",
    "# | or\n",
    "# ~ not"
   ]
  },
  {
   "cell_type": "code",
   "execution_count": null,
   "id": "75c89d5e",
   "metadata": {},
   "outputs": [
    {
     "name": "stdout",
     "output_type": "stream",
     "text": [
      "29.666666666666668\n",
      "[31 30 32 31 34 35 31 30]\n"
     ]
    }
   ],
   "source": [
    "# Q1)\n",
    "\n",
    "temp = np.array([\n",
    "    [31,30,28],\n",
    "    [29,29,32],\n",
    "    [26,24,27],\n",
    "    [31,34,35],\n",
    "    [28,31,30]\n",
    "])\n",
    "\n",
    "daily_avg = np.mean(temp)\n",
    "print(daily_avg)\n",
    "\n",
    "result = temp[greater_than_avg]\n",
    "print(result)"
   ]
  },
  {
   "cell_type": "code",
   "execution_count": null,
   "id": "46eae9d7",
   "metadata": {},
   "outputs": [
    {
     "name": "stdout",
     "output_type": "stream",
     "text": [
      "[[0. 0. 0.]\n",
      " [0. 0. 0.]\n",
      " [0. 0. 0.]]\n",
      "[0. 0. 0. 0. 0.]\n",
      "[[1. 1. 1.]\n",
      " [1. 1. 1.]]\n",
      "[1. 1. 1. 1. 1.]\n",
      "[[5 5 5]\n",
      " [5 5 5]]\n",
      "[5 5 5 5 5]\n"
     ]
    }
   ],
   "source": [
    "# np.zeros\n",
    "print(np.zeros((2,3)))\n",
    "print(np.zeros(5))\n",
    "\n",
    "# np.ones\n",
    "print(np.ones((2,3)))\n",
    "print(np.ones(5))\n",
    "\n",
    "# np.full\n",
    "print(np.full((2,3), 5))\n",
    "print(np.full(5, 5))"
   ]
  },
  {
   "cell_type": "code",
   "execution_count": 50,
   "id": "d07e245a",
   "metadata": {},
   "outputs": [
    {
     "name": "stdout",
     "output_type": "stream",
     "text": [
      "[[1 2 3]\n",
      " [1 2 3]]\n"
     ]
    }
   ],
   "source": [
    "print(np.full((2,3),(1,2,3)))"
   ]
  },
  {
   "cell_type": "code",
   "execution_count": null,
   "id": "145b9959",
   "metadata": {},
   "outputs": [
    {
     "name": "stdout",
     "output_type": "stream",
     "text": [
      "[[2.5e-323 2.5e-323 2.5e-323]\n",
      " [2.5e-323 2.5e-323 2.5e-323]]\n"
     ]
    }
   ],
   "source": [
    "# np.empty\n",
    "\n",
    "print(np.empty((2,3)))"
   ]
  },
  {
   "cell_type": "code",
   "execution_count": null,
   "id": "2a570333",
   "metadata": {},
   "outputs": [
    {
     "ename": "AttributeError",
     "evalue": "partially initialized module 'pandas' from 'C:\\Users\\HP\\AppData\\Roaming\\Python\\Python313\\site-packages\\pandas\\__init__.py' has no attribute 'core' (most likely due to a circular import)",
     "output_type": "error",
     "traceback": [
      "\u001b[31m---------------------------------------------------------------------------\u001b[39m",
      "\u001b[31mAttributeError\u001b[39m                            Traceback (most recent call last)",
      "\u001b[36mCell\u001b[39m\u001b[36m \u001b[39m\u001b[32mIn[3]\u001b[39m\u001b[32m, line 3\u001b[39m\n\u001b[32m      1\u001b[39m \u001b[38;5;66;03m# pandas library\u001b[39;00m\n\u001b[32m----> \u001b[39m\u001b[32m3\u001b[39m \u001b[38;5;28;01mimport\u001b[39;00m\u001b[38;5;250m \u001b[39m\u001b[34;01mpandas\u001b[39;00m\u001b[38;5;250m \u001b[39m\u001b[38;5;28;01mas\u001b[39;00m\u001b[38;5;250m \u001b[39m\u001b[34;01mpd\u001b[39;00m\n\u001b[32m      5\u001b[39m data = {\u001b[33m'\u001b[39m\u001b[33mname\u001b[39m\u001b[33m'\u001b[39m:[\u001b[33m'\u001b[39m\u001b[33mAlice\u001b[39m\u001b[33m'\u001b[39m,\u001b[33m'\u001b[39m\u001b[33mBob\u001b[39m\u001b[33m'\u001b[39m,\u001b[33m'\u001b[39m\u001b[33mcharlie\u001b[39m\u001b[33m'\u001b[39m,\u001b[33m'\u001b[39m\u001b[33mDavid\u001b[39m\u001b[33m'\u001b[39m],\n\u001b[32m      6\u001b[39m         \u001b[33m'\u001b[39m\u001b[33mage\u001b[39m\u001b[33m'\u001b[39m:[\u001b[32m25\u001b[39m,\u001b[32m30\u001b[39m,\u001b[32m35\u001b[39m,\u001b[32m40\u001b[39m]}\n\u001b[32m      8\u001b[39m df = pd.DataFrame(data)\n",
      "\u001b[36mFile \u001b[39m\u001b[32m~\\AppData\\Roaming\\Python\\Python313\\site-packages\\pandas\\__init__.py:151\u001b[39m\n\u001b[32m    133\u001b[39m \u001b[38;5;28;01mfrom\u001b[39;00m\u001b[38;5;250m \u001b[39m\u001b[34;01mpandas\u001b[39;00m\u001b[34;01m.\u001b[39;00m\u001b[34;01mcore\u001b[39;00m\u001b[34;01m.\u001b[39;00m\u001b[34;01mreshape\u001b[39;00m\u001b[34;01m.\u001b[39;00m\u001b[34;01mapi\u001b[39;00m\u001b[38;5;250m \u001b[39m\u001b[38;5;28;01mimport\u001b[39;00m (\n\u001b[32m    134\u001b[39m     concat,\n\u001b[32m    135\u001b[39m     lreshape,\n\u001b[32m   (...)\u001b[39m\u001b[32m    147\u001b[39m     qcut,\n\u001b[32m    148\u001b[39m )\n\u001b[32m    150\u001b[39m \u001b[38;5;28;01mfrom\u001b[39;00m\u001b[38;5;250m \u001b[39m\u001b[34;01mpandas\u001b[39;00m\u001b[38;5;250m \u001b[39m\u001b[38;5;28;01mimport\u001b[39;00m api, arrays, errors, io, plotting, tseries\n\u001b[32m--> \u001b[39m\u001b[32m151\u001b[39m \u001b[38;5;28;01mfrom\u001b[39;00m\u001b[38;5;250m \u001b[39m\u001b[34;01mpandas\u001b[39;00m\u001b[38;5;250m \u001b[39m\u001b[38;5;28;01mimport\u001b[39;00m testing\n\u001b[32m    152\u001b[39m \u001b[38;5;28;01mfrom\u001b[39;00m\u001b[38;5;250m \u001b[39m\u001b[34;01mpandas\u001b[39;00m\u001b[34;01m.\u001b[39;00m\u001b[34;01mutil\u001b[39;00m\u001b[34;01m.\u001b[39;00m\u001b[34;01m_print_versions\u001b[39;00m\u001b[38;5;250m \u001b[39m\u001b[38;5;28;01mimport\u001b[39;00m show_versions\n\u001b[32m    154\u001b[39m \u001b[38;5;28;01mfrom\u001b[39;00m\u001b[38;5;250m \u001b[39m\u001b[34;01mpandas\u001b[39;00m\u001b[34;01m.\u001b[39;00m\u001b[34;01mio\u001b[39;00m\u001b[34;01m.\u001b[39;00m\u001b[34;01mapi\u001b[39;00m\u001b[38;5;250m \u001b[39m\u001b[38;5;28;01mimport\u001b[39;00m (\n\u001b[32m    155\u001b[39m     \u001b[38;5;66;03m# excel\u001b[39;00m\n\u001b[32m    156\u001b[39m     ExcelFile,\n\u001b[32m   (...)\u001b[39m\u001b[32m    184\u001b[39m     read_spss,\n\u001b[32m    185\u001b[39m )\n",
      "\u001b[36mFile \u001b[39m\u001b[32m~\\AppData\\Roaming\\Python\\Python313\\site-packages\\pandas\\testing.py:6\u001b[39m\n\u001b[32m      1\u001b[39m \u001b[33;03m\"\"\"\u001b[39;00m\n\u001b[32m      2\u001b[39m \u001b[33;03mPublic testing utility functions.\u001b[39;00m\n\u001b[32m      3\u001b[39m \u001b[33;03m\"\"\"\u001b[39;00m\n\u001b[32m----> \u001b[39m\u001b[32m6\u001b[39m \u001b[38;5;28;01mfrom\u001b[39;00m\u001b[38;5;250m \u001b[39m\u001b[34;01mpandas\u001b[39;00m\u001b[34;01m.\u001b[39;00m\u001b[34;01m_testing\u001b[39;00m\u001b[38;5;250m \u001b[39m\u001b[38;5;28;01mimport\u001b[39;00m (\n\u001b[32m      7\u001b[39m     assert_extension_array_equal,\n\u001b[32m      8\u001b[39m     assert_frame_equal,\n\u001b[32m      9\u001b[39m     assert_index_equal,\n\u001b[32m     10\u001b[39m     assert_series_equal,\n\u001b[32m     11\u001b[39m )\n\u001b[32m     13\u001b[39m __all__ = [\n\u001b[32m     14\u001b[39m     \u001b[33m\"\u001b[39m\u001b[33massert_extension_array_equal\u001b[39m\u001b[33m\"\u001b[39m,\n\u001b[32m     15\u001b[39m     \u001b[33m\"\u001b[39m\u001b[33massert_frame_equal\u001b[39m\u001b[33m\"\u001b[39m,\n\u001b[32m     16\u001b[39m     \u001b[33m\"\u001b[39m\u001b[33massert_series_equal\u001b[39m\u001b[33m\"\u001b[39m,\n\u001b[32m     17\u001b[39m     \u001b[33m\"\u001b[39m\u001b[33massert_index_equal\u001b[39m\u001b[33m\"\u001b[39m,\n\u001b[32m     18\u001b[39m ]\n",
      "\u001b[36mFile \u001b[39m\u001b[32m~\\AppData\\Roaming\\Python\\Python313\\site-packages\\pandas\\_testing\\__init__.py:405\u001b[39m\n\u001b[32m    400\u001b[39m     \u001b[38;5;28;01mimport\u001b[39;00m\u001b[38;5;250m \u001b[39m\u001b[34;01mpytest\u001b[39;00m\n\u001b[32m    402\u001b[39m     \u001b[38;5;28;01mreturn\u001b[39;00m pytest.raises(expected_exception, match=\u001b[38;5;28;01mNone\u001b[39;00m)\n\u001b[32m--> \u001b[39m\u001b[32m405\u001b[39m cython_table = \u001b[43mpd\u001b[49m\u001b[43m.\u001b[49m\u001b[43mcore\u001b[49m.common._cython_table.items()\n\u001b[32m    408\u001b[39m \u001b[38;5;28;01mdef\u001b[39;00m\u001b[38;5;250m \u001b[39m\u001b[34mget_cython_table_params\u001b[39m(ndframe, func_names_and_expected):\n\u001b[32m    409\u001b[39m \u001b[38;5;250m    \u001b[39m\u001b[33;03m\"\"\"\u001b[39;00m\n\u001b[32m    410\u001b[39m \u001b[33;03m    Combine frame, functions from com._cython_table\u001b[39;00m\n\u001b[32m    411\u001b[39m \u001b[33;03m    keys and expected result.\u001b[39;00m\n\u001b[32m   (...)\u001b[39m\u001b[32m    423\u001b[39m \u001b[33;03m        List of three items (DataFrame, function, expected result)\u001b[39;00m\n\u001b[32m    424\u001b[39m \u001b[33;03m    \"\"\"\u001b[39;00m\n",
      "\u001b[31mAttributeError\u001b[39m: partially initialized module 'pandas' from 'C:\\Users\\HP\\AppData\\Roaming\\Python\\Python313\\site-packages\\pandas\\__init__.py' has no attribute 'core' (most likely due to a circular import)"
     ]
    }
   ],
   "source": [
    "# pandas library\n",
    "\n",
    "import pandas as pd\n",
    "\n",
    "data = {'name':['Alice','Bob','charlie','David'],\n",
    "        'age':[25,30,35,40]}\n",
    "\n",
    "df = pd.DataFrame(data)\n",
    "print(df)\n",
    "\n",
    "print(df.loc[0,'name'])  # First row, name column\n",
    "\n",
    "print(df.iloc[2, 1])  # row index ekai column index ekai use krl access krai\n",
    "\n",
    "print(df.loc[2])\n",
    "\n",
    "print(df.iloc[2])  "
   ]
  },
  {
   "cell_type": "code",
   "execution_count": null,
   "id": "095d2898",
   "metadata": {},
   "outputs": [
    {
     "name": "stdout",
     "output_type": "stream",
     "text": [
      "              name  age\n",
      "student_1    Alice   25\n",
      "student_2      Bob   30\n",
      "student_3  charlie   35\n",
      "student_4    David   40\n",
      "name    charlie\n",
      "age          35\n",
      "Name: student_3, dtype: object\n",
      "name    charlie\n",
      "age          35\n",
      "Name: student_3, dtype: object\n"
     ]
    }
   ],
   "source": [
    "df = pd.DataFrame(data, index=[\"student_1\", \"student_2\", \"student_3\", \"student_4\"])\n",
    "print(df)\n",
    "\n",
    "\n",
    "\n",
    "\n"
   ]
  },
  {
   "cell_type": "code",
   "execution_count": 19,
   "id": "395ab488",
   "metadata": {},
   "outputs": [
    {
     "ename": "NameError",
     "evalue": "name 'df' is not defined",
     "output_type": "error",
     "traceback": [
      "\u001b[31m---------------------------------------------------------------------------\u001b[39m",
      "\u001b[31mNameError\u001b[39m                                 Traceback (most recent call last)",
      "\u001b[36mCell\u001b[39m\u001b[36m \u001b[39m\u001b[32mIn[19]\u001b[39m\u001b[32m, line 4\u001b[39m\n\u001b[32m      1\u001b[39m \u001b[38;5;66;03m# access 3rd using loc and iloc\u001b[39;00m\n\u001b[32m      2\u001b[39m \u001b[38;5;28;01mimport\u001b[39;00m\u001b[38;5;250m \u001b[39m\u001b[34;01mpandas\u001b[39;00m\u001b[38;5;250m \u001b[39m\u001b[38;5;28;01mas\u001b[39;00m\u001b[38;5;250m \u001b[39m\u001b[34;01mpd\u001b[39;00m\n\u001b[32m----> \u001b[39m\u001b[32m4\u001b[39m \u001b[38;5;28mprint\u001b[39m(\u001b[43mdf\u001b[49m.loc[\u001b[33m\"\u001b[39m\u001b[33mstudent_3\u001b[39m\u001b[33m\"\u001b[39m])  \n\u001b[32m      6\u001b[39m \u001b[38;5;66;03m# access 2nd using iloc\u001b[39;00m\n\u001b[32m      7\u001b[39m \u001b[38;5;28mprint\u001b[39m(df.iloc[\u001b[32m2\u001b[39m])\n",
      "\u001b[31mNameError\u001b[39m: name 'df' is not defined"
     ]
    }
   ],
   "source": [
    "# access 3rd using loc and iloc\n",
    "import pandas as pd\n",
    "\n",
    "print(df.loc[\"student_3\"])  \n",
    "\n",
    "# access 2nd using iloc\n",
    "print(df.iloc[2])"
   ]
  },
  {
   "cell_type": "code",
   "execution_count": null,
   "id": "72389505",
   "metadata": {},
   "outputs": [
    {
     "name": "stdout",
     "output_type": "stream",
     "text": [
      "            name  age\n",
      "student_2    Bob   30\n",
      "student_4  David   40\n"
     ]
    }
   ],
   "source": [
    "# access 2nd and 4th using loc\n",
    "\n",
    "print(df.loc[[\"student_2\", \"student_4\"]])\n"
   ]
  },
  {
   "cell_type": "code",
   "execution_count": null,
   "id": "ba570168",
   "metadata": {},
   "outputs": [
    {
     "name": "stdout",
     "output_type": "stream",
     "text": [
      "student_1    25\n",
      "student_2    30\n",
      "student_3    35\n",
      "student_4    40\n",
      "Name: age, dtype: int64\n",
      "student_1      Alice\n",
      "student_2        Bob\n",
      "student_3    charlie\n",
      "student_4      David\n",
      "Name: name, dtype: object\n"
     ]
    }
   ],
   "source": [
    "# accessing columns\n",
    "\n",
    "age_column = df['age']\n",
    "print(age_column)\n",
    "\n",
    "name_column = df['name']\n",
    "print(name_column)"
   ]
  },
  {
   "cell_type": "code",
   "execution_count": 76,
   "id": "4128fe47",
   "metadata": {},
   "outputs": [
    {
     "name": "stdout",
     "output_type": "stream",
     "text": [
      "Index(['name', 'age'], dtype='object')\n",
      "['name', 'age']\n"
     ]
    }
   ],
   "source": [
    "print(df.columns)  # Get all column names\n",
    "\n",
    "print(list(df.columns))  # Convert column names to a list"
   ]
  },
  {
   "cell_type": "code",
   "execution_count": 79,
   "id": "df9d0f82",
   "metadata": {},
   "outputs": [
    {
     "name": "stdout",
     "output_type": "stream",
     "text": [
      "8\n",
      "(4, 2)\n",
      "4\n"
     ]
    }
   ],
   "source": [
    "print(df.size)\n",
    "print(df.shape)  # Get the shape of the DataFrame (rows, columns)\n",
    "print(len(df))"
   ]
  },
  {
   "cell_type": "code",
   "execution_count": 81,
   "id": "67047d3f",
   "metadata": {},
   "outputs": [
    {
     "name": "stdout",
     "output_type": "stream",
     "text": [
      "[['Alice' 25]\n",
      " ['Bob' 30]\n",
      " ['charlie' 35]\n",
      " ['David' 40]]\n",
      "<class 'numpy.ndarray'>\n"
     ]
    }
   ],
   "source": [
    "print(df.values)  # Get the values of the DataFrame as a NumPy array\n",
    "print(type(df.values))  # Check the type of the values"
   ]
  },
  {
   "cell_type": "code",
   "execution_count": null,
   "id": "15b31328",
   "metadata": {},
   "outputs": [
    {
     "name": "stdout",
     "output_type": "stream",
     "text": [
      "32.5\n",
      "130\n"
     ]
    }
   ],
   "source": [
    "# sum and average of age column\n",
    "\n",
    "print(df['age'].mean())\n",
    "print(df['age'].sum())"
   ]
  },
  {
   "cell_type": "code",
   "execution_count": 87,
   "id": "5fb49467",
   "metadata": {},
   "outputs": [
    {
     "name": "stdout",
     "output_type": "stream",
     "text": [
      "              name  age     city  salary\n",
      "student_1    Alice   25  colombo   50000\n",
      "student_2      Bob   30    kandy   60000\n",
      "student_3  charlie   35    galle   70000\n",
      "student_4    David   40   matara   80000\n"
     ]
    }
   ],
   "source": [
    "# add new column\n",
    "\n",
    "df['city'] = ['colombo', 'kandy', 'galle', 'matara']\n",
    "df['salary'] = [50000, 60000, 70000, 80000]\n",
    "print(df)"
   ]
  },
  {
   "cell_type": "code",
   "execution_count": null,
   "id": "623d5fd9",
   "metadata": {},
   "outputs": [
    {
     "name": "stdout",
     "output_type": "stream",
     "text": [
      "              name  age    city  salary\n",
      "student_3  charlie   35   galle   70000\n",
      "student_4    David   40  matara   80000\n",
      "<class 'pandas.core.frame.DataFrame'>\n"
     ]
    }
   ],
   "source": [
    "# filtering rows based on a condition\n",
    "filtered_df = df[df['age'] > 30]\n",
    "print(filtered_df)\n",
    "print(type(filtered_df))"
   ]
  },
  {
   "cell_type": "code",
   "execution_count": null,
   "id": "395ed4cb",
   "metadata": {},
   "outputs": [
    {
     "name": "stdout",
     "output_type": "stream",
     "text": [
      "          name  age   city  salary\n",
      "student_2  Bob   30  kandy   60000\n"
     ]
    }
   ],
   "source": [
    "filtered_df = df[(df['age'] > 28) & (df['salary'] < 65000)]\n",
    "print(filtered_df)"
   ]
  },
  {
   "cell_type": "code",
   "execution_count": null,
   "id": "7f360e43",
   "metadata": {},
   "outputs": [
    {
     "name": "stdout",
     "output_type": "stream",
     "text": [
      "   student_id      name  assignment_1  assignment_2  final_exam\n",
      "0        1001    Ayesha            78            85          90\n",
      "1        1002     Nimal            65            70          72\n",
      "2        1003  Tharindu            88            90          95\n",
      "3        1004     kasun            50            40          60\n",
      "4        1005  shashini            80            75          85\n",
      "       name  final_exam\n",
      "0    Ayesha          90\n",
      "2  Tharindu          95\n",
      "4  shashini          85\n",
      "   student_id      name  assignment_1  assignment_2  final_exam  average_score\n",
      "0        1001    Ayesha            78            85          90      84.333333\n",
      "1        1002     Nimal            65            70          72      69.000000\n",
      "2        1003  Tharindu            88            90          95      91.000000\n",
      "3        1004     kasun            50            40          60      50.000000\n",
      "4        1005  shashini            80            75          85      80.000000\n",
      "91.0\n",
      "361\n"
     ]
    }
   ],
   "source": [
    "# Q2)\n",
    "\n",
    "# i)\n",
    "data = {'student_id':[1001,1002,1003,1004,1005],\n",
    "        'name':['Ayesha','Nimal','Tharindu','kasun','shashini'],\n",
    "        'assignment_1':[78,65,88,50,80],\n",
    "        'assignment_2':[85,70,90,40,75],\n",
    "        'final_exam':[90,72,95,60,85]\n",
    "        }\n",
    "df = pd.DataFrame(data)\n",
    "print(df)\n",
    "\n",
    "# ii)\n",
    "high_scorers = df[df['final_exam'] > 80]\n",
    "print(high_scorers[['name', 'final_exam']])\n",
    "\n",
    "# iii)\n",
    "df['average_score'] = (df['assignment_1'] + df['assignment_2'] + df['final_exam']) / 3\n",
    "print(df)\n",
    "\n",
    "# iv)\n",
    "df['heighest_avg'] = df['average_score'].max()\n",
    "print(highest_avg)\n",
    "\n",
    "# v)\n",
    "print(df['assignment_1'].sum())\n",
    "\n"
   ]
  },
  {
   "cell_type": "code",
   "execution_count": null,
   "id": "41c190f7",
   "metadata": {},
   "outputs": [
    {
     "name": "stdout",
     "output_type": "stream",
     "text": [
      "          Name  Age Occupation\n",
      "0     John Doe   30   Engineer\n",
      "1   Jane Smith   25    Teacher\n",
      "2  Bob Johnson   40     Doctor\n",
      "3  Alice Brown   35     Artist\n",
      "<class 'pandas.core.frame.DataFrame'>\n"
     ]
    }
   ],
   "source": [
    "# csv file read in pandas\n",
    "\n",
    "df = pd.read_csv('test.csv')\n",
    "print(df)\n",
    "print(type(df))"
   ]
  },
  {
   "cell_type": "code",
   "execution_count": 114,
   "id": "9187047e",
   "metadata": {},
   "outputs": [
    {
     "name": "stdout",
     "output_type": "stream",
     "text": [
      "       name  age  isStudent    hobbies\n",
      "0  John Doe   30      False    reading\n",
      "1  John Doe   30      False  gardening\n",
      "2  John Doe   30      False   swimming\n",
      "<class 'pandas.core.frame.DataFrame'>\n"
     ]
    }
   ],
   "source": [
    "# json file read in pandas\n",
    "df_json = pd.read_json('test.json')\n",
    "print(df_json)\n",
    "print(type(df_json))"
   ]
  }
 ],
 "metadata": {
  "kernelspec": {
   "display_name": "Python 3",
   "language": "python",
   "name": "python3"
  },
  "language_info": {
   "codemirror_mode": {
    "name": "ipython",
    "version": 3
   },
   "file_extension": ".py",
   "mimetype": "text/x-python",
   "name": "python",
   "nbconvert_exporter": "python",
   "pygments_lexer": "ipython3",
   "version": "3.13.4"
  }
 },
 "nbformat": 4,
 "nbformat_minor": 5
}
