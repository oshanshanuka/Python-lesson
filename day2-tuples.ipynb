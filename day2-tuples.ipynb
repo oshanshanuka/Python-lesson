{
 "cells": [
  {
   "cell_type": "code",
   "execution_count": 1,
   "id": "2d346830",
   "metadata": {},
   "outputs": [
    {
     "name": "stdout",
     "output_type": "stream",
     "text": [
      "('tennis', 'cricket', 'football')\n",
      "<class 'tuple'>\n",
      "cricket\n"
     ]
    }
   ],
   "source": [
    "sports = (\"tennis\",\"cricket\",\"football\")\n",
    "print(sports)\n",
    "print(type(sports))\n",
    "print(sports[1])"
   ]
  }
 ],
 "metadata": {
  "kernelspec": {
   "display_name": "Python 3",
   "language": "python",
   "name": "python3"
  },
  "language_info": {
   "codemirror_mode": {
    "name": "ipython",
    "version": 3
   },
   "file_extension": ".py",
   "mimetype": "text/x-python",
   "name": "python",
   "nbconvert_exporter": "python",
   "pygments_lexer": "ipython3",
   "version": "3.13.4"
  }
 },
 "nbformat": 4,
 "nbformat_minor": 5
}
