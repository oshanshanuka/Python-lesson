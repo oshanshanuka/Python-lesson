{
 "cells": [
  {
   "cell_type": "code",
   "execution_count": 8,
   "id": "2d346830",
   "metadata": {},
   "outputs": [
    {
     "name": "stdout",
     "output_type": "stream",
     "text": [
      "('tennis', 'cricket', 'football')\n",
      "<class 'tuple'>\n",
      "cricket\n",
      "3\n"
     ]
    }
   ],
   "source": [
    "sports = (\"tennis\",\"cricket\",\"football\")\n",
    "print(sports)\n",
    "print(type(sports))\n",
    "print(sports[1])\n",
    "print(len(sports))"
   ]
  },
  {
   "cell_type": "code",
   "execution_count": 9,
   "id": "73da4bb3",
   "metadata": {},
   "outputs": [
    {
     "name": "stdout",
     "output_type": "stream",
     "text": [
      "(True, 'cricket', 'football')\n",
      "('tennis', 30, True, 'cricket')\n",
      "(True, 'cricket', 'football')\n"
     ]
    }
   ],
   "source": [
    "my_tuple=(\"tennis\",30,True,\"cricket\",\"football\")\n",
    "print(my_tuple[2:5])\n",
    "print(my_tuple[:4])\n",
    "print(my_tuple[2:])"
   ]
  },
  {
   "cell_type": "code",
   "execution_count": 2,
   "id": "85d73e7f",
   "metadata": {},
   "outputs": [
    {
     "name": "stdout",
     "output_type": "stream",
     "text": [
      "('cricket',)\n",
      "<class 'tuple'>\n"
     ]
    }
   ],
   "source": [
    "leng=(\"cricket\",)\n",
    "print(leng)\n",
    "print(type(leng))"
   ]
  },
  {
   "cell_type": "code",
   "execution_count": 11,
   "id": "3fdfdbd0",
   "metadata": {},
   "outputs": [
    {
     "name": "stdout",
     "output_type": "stream",
     "text": [
      "['apple', 'banana', 'orange'] <class 'list'>\n",
      "('apple', 'grapes', 'orange') <class 'tuple'>\n"
     ]
    }
   ],
   "source": [
    "fruits=(\"apple\",\"banana\",\"orange\")\n",
    "x=list(fruits)\n",
    "print(x,type(x))\n",
    "x[1]=\"grapes\"\n",
    "y=tuple(x)\n",
    "print(y,type(y))\n"
   ]
  },
  {
   "cell_type": "code",
   "execution_count": 12,
   "id": "4d7e141d",
   "metadata": {},
   "outputs": [
    {
     "name": "stdout",
     "output_type": "stream",
     "text": [
      "b\n",
      "True\n"
     ]
    }
   ],
   "source": [
    "nested_tuple=((1,2,3),(\"a\",\"b\",\"c\"),(True,False))\n",
    "print(nested_tuple[1][1])\n",
    "print(nested_tuple[2][0])"
   ]
  },
  {
   "cell_type": "code",
   "execution_count": 13,
   "id": "006bd3dc",
   "metadata": {},
   "outputs": [
    {
     "name": "stdout",
     "output_type": "stream",
     "text": [
      "{'football', 'tennis', 'cricket'}\n",
      "<class 'set'>\n",
      "3\n"
     ]
    }
   ],
   "source": [
    "sports = {\"tennis\",\"cricket\",\"football\",\"tennis\"}\n",
    "print(sports)\n",
    "print(type(sports))\n",
    "print(len(sports))"
   ]
  },
  {
   "cell_type": "code",
   "execution_count": 14,
   "id": "83dea4d7",
   "metadata": {},
   "outputs": [
    {
     "name": "stdout",
     "output_type": "stream",
     "text": [
      "{'football', 'baseball', 'tennis', 'cricket'}\n"
     ]
    }
   ],
   "source": [
    "sports = {\"tennis\",\"cricket\",\"football\"}\n",
    "sports.add(\"baseball\")\n",
    "print(sports)"
   ]
  },
  {
   "cell_type": "code",
   "execution_count": 15,
   "id": "969a207a",
   "metadata": {},
   "outputs": [
    {
     "name": "stdout",
     "output_type": "stream",
     "text": [
      "{'football', 'baseball', 'tennis', 'cricket'}\n"
     ]
    }
   ],
   "source": [
    "set_1 = {\"tennis\",\"cricket\",\"football\"}\n",
    "set_1.add(\"baseball\")\n",
    "\n",
    "print(set_1)"
   ]
  },
  {
   "cell_type": "code",
   "execution_count": 16,
   "id": "6af38a59",
   "metadata": {},
   "outputs": [
    {
     "name": "stdout",
     "output_type": "stream",
     "text": [
      "{'football', 'apple', 'banana', 'cricket', 'tennis'}\n"
     ]
    }
   ],
   "source": [
    "set_1 = {\"tennis\",\"cricket\",\"football\"}\n",
    "set_2 ={\"apple\", \"banana\"}\n",
    "set_1.update(set_2)\n",
    "\n",
    "print(set_1)"
   ]
  },
  {
   "cell_type": "code",
   "execution_count": 17,
   "id": "0d8dd699",
   "metadata": {},
   "outputs": [
    {
     "name": "stdout",
     "output_type": "stream",
     "text": [
      "{'football', 'apple', 'banana', 'cricket', 'tennis'}\n"
     ]
    }
   ],
   "source": [
    "set_1 = {\"tennis\",\"cricket\",\"football\"}\n",
    "list_2 ={\"apple\", \"banana\"}\n",
    "\n",
    "set_1.update(list_2)\n",
    "\n",
    "print(set_1)"
   ]
  },
  {
   "cell_type": "code",
   "execution_count": 18,
   "id": "f1263a27",
   "metadata": {},
   "outputs": [
    {
     "name": "stdout",
     "output_type": "stream",
     "text": [
      "[50, 60, 30, 40, 50, 25, 60, 30, 40]\n",
      "{40, 50, 25, 60, 30}\n",
      "[25, 30, 40, 50, 60]\n"
     ]
    }
   ],
   "source": [
    "list_1=[50,60,30,40,50,25,60,30,40]\n",
    "print(list_1)\n",
    "\n",
    "x = set(list_1)\n",
    "print(x)\n",
    "y=list(x)\n",
    "y.sort()\n",
    "print(y)\n"
   ]
  },
  {
   "cell_type": "code",
   "execution_count": 19,
   "id": "f928562c",
   "metadata": {},
   "outputs": [
    {
     "name": "stdout",
     "output_type": "stream",
     "text": [
      "[25, 30, 40, 50, 60]\n"
     ]
    }
   ],
   "source": [
    "list_1=[50,60,30,40,50,25,60,30,40]\n",
    "set_1 = set(list_1)\n",
    "list_1 = list(set_1)\n",
    "list_1.sort()\n",
    "print(list_1)"
   ]
  },
  {
   "cell_type": "code",
   "execution_count": 20,
   "id": "4eb3b576",
   "metadata": {},
   "outputs": [
    {
     "name": "stdout",
     "output_type": "stream",
     "text": [
      "range(1, 7) <class 'range'>\n",
      "range(1, 12, 2)\n",
      "range(3, 24, 4)\n",
      "23\n"
     ]
    }
   ],
   "source": [
    "x = range(1,7,1)\n",
    "y = range(1,12,2)\n",
    "z = range(3,24,4)\n",
    "\n",
    "print(x,type(x))\n",
    "print(y)\n",
    "print(z)\n",
    "\n",
    "print(z[5])\n"
   ]
  },
  {
   "cell_type": "code",
   "execution_count": 21,
   "id": "63682ee7",
   "metadata": {},
   "outputs": [
    {
     "name": "stdout",
     "output_type": "stream",
     "text": [
      "{'name': 'sugar', 'weight': '1kg', 'price': 130.2} <class 'dict'>\n",
      "{'name': 'sugar', 'weight': '1kg', 'price': 150.0, 'expire_date': 'jan 2025'}\n",
      "{'name': 'sugar', 'weight': '1kg', 'expire_date': 'jan 2025'}\n",
      "{'name': 'sugar', 'expire_date': 'jan 2025'}\n",
      "{}\n"
     ]
    }
   ],
   "source": [
    "this_dict = {\n",
    "    \"name\":\"sugar\",\n",
    "    \"weight\":\"1kg\",\n",
    "    \"price\":130.20\n",
    "}\n",
    "\n",
    "print(this_dict,type(this_dict))\n",
    "this_dict.update({\"expire_date\":\"jan 2025\", \"price\":150.00})\n",
    "print(this_dict)\n",
    "this_dict.pop(\"price\")\n",
    "print(this_dict)\n",
    "\n",
    "del this_dict[\"weight\"]\n",
    "print(this_dict)\n",
    "this_dict.clear()\n",
    "print(this_dict)\n",
    "# del this_dict\n",
    "# print(this_dict)"
   ]
  },
  {
   "cell_type": "code",
   "execution_count": 22,
   "id": "e79aa8bb",
   "metadata": {},
   "outputs": [
    {
     "name": "stdout",
     "output_type": "stream",
     "text": [
      "None\n",
      "0\n",
      "{'price': 144.0}\n",
      "{'price': 144.0, 'color': 'brown'}\n"
     ]
    }
   ],
   "source": [
    "# how to access to item using it keys\n",
    "print(this_dict.get(\"weight\"))\n",
    "print(len(this_dict))\n",
    "\n",
    "this_dict[\"price\"]=144.00\n",
    "print(this_dict)\n",
    "\n",
    "this_dict[\"color\"] = \"brown\"\n",
    "print(this_dict)"
   ]
  },
  {
   "cell_type": "code",
   "execution_count": 23,
   "id": "704e01a7",
   "metadata": {},
   "outputs": [
    {
     "name": "stdout",
     "output_type": "stream",
     "text": [
      "{'name': 'sugar', 'weight': '1kg', 'price': 150.2}\n",
      "{'name': 'sugar', 'weight': '1kg', 'price': 150.35}\n"
     ]
    }
   ],
   "source": [
    "this_dict = {\n",
    "    \"name\":\"sugar\",\n",
    "    \"weight\":\"1kg\",\n",
    "    \"price\":150.20\n",
    "}\n",
    "\n",
    "copy_dict=this_dict.copy()\n",
    "print(copy_dict)\n",
    "\n",
    "this_dict[\"price\"]=150.35\n",
    "print(this_dict)\n"
   ]
  },
  {
   "cell_type": "code",
   "execution_count": 24,
   "id": "78667818",
   "metadata": {},
   "outputs": [
    {
     "name": "stdout",
     "output_type": "stream",
     "text": [
      "2.3333333333333335\n",
      "2\n",
      "1\n"
     ]
    }
   ],
   "source": [
    "x,y=7,3\n",
    "print(x / y)\n",
    "print(x//y)\n",
    "print(x % y)"
   ]
  },
  {
   "cell_type": "code",
   "execution_count": 25,
   "id": "91f9bbd2",
   "metadata": {},
   "outputs": [
    {
     "name": "stdout",
     "output_type": "stream",
     "text": [
      "False\n",
      "True\n",
      "True\n"
     ]
    }
   ],
   "source": [
    "x,y=5,6\n",
    "print(x is y)\n",
    "\n",
    "x=5\n",
    "y=x\n",
    "\n",
    "print(x is y)\n",
    "\n",
    "x=5\n",
    "y=5\n",
    "\n",
    "print(x is y)"
   ]
  },
  {
   "cell_type": "code",
   "execution_count": 26,
   "id": "fa155017",
   "metadata": {},
   "outputs": [
    {
     "name": "stdout",
     "output_type": "stream",
     "text": [
      "0\n"
     ]
    }
   ],
   "source": [
    "x = 5 \n",
    "y = 10\n",
    "\n",
    "z = x&y\n",
    "print(z)"
   ]
  },
  {
   "cell_type": "code",
   "execution_count": 27,
   "id": "fbac1982",
   "metadata": {},
   "outputs": [
    {
     "name": "stdout",
     "output_type": "stream",
     "text": [
      "n is even\n"
     ]
    }
   ],
   "source": [
    "n = 16\n",
    "\n",
    "if n % 2 == 0 :\n",
    "    print(\"n is even\")\n",
    "else:\n",
    "    print(\"n is odd\")"
   ]
  },
  {
   "cell_type": "code",
   "execution_count": 28,
   "id": "c4c793d3",
   "metadata": {},
   "outputs": [
    {
     "name": "stdout",
     "output_type": "stream",
     "text": [
      "not empty\n"
     ]
    }
   ],
   "source": [
    "first_list = [1,\"oshan\",10,True,False]\n",
    "\n",
    "if len(first_list) == 0:\n",
    "    print(\"empty\")\n",
    "else:\n",
    "    print(\"not empty\")"
   ]
  },
  {
   "cell_type": "code",
   "execution_count": 31,
   "id": "6de71ca3",
   "metadata": {},
   "outputs": [
    {
     "name": "stdout",
     "output_type": "stream",
     "text": [
      "The circumference of the circle is: {circumference}\n"
     ]
    }
   ],
   "source": [
    "PI_Value = 3.14\n",
    "r = 7\n",
    "if r <= 0:\n",
    "    print(\"r should be positive.\")\n",
    "else:\n",
    "    circumference = 2 * PI_Value * r\n",
    "    print(\"The circumference of the circle is: {circumference}\")"
   ]
  },
  {
   "cell_type": "code",
   "execution_count": 41,
   "id": "73492704",
   "metadata": {},
   "outputs": [
    {
     "name": "stdout",
     "output_type": "stream",
     "text": [
      "The hypotenuse of the triangle is: 5.0\n"
     ]
    }
   ],
   "source": [
    "a = 3\n",
    "b = 4\n",
    "\n",
    "if a <= 0 or b <= 0:\n",
    "    print(\"a and b should be positive.\")    \n",
    "else:\n",
    "    hypotenuse = (a**2 + b**2)**0.5\n",
    "    print(f\"The hypotenuse of the triangle is: {hypotenuse}\")"
   ]
  }
 ],
 "metadata": {
  "kernelspec": {
   "display_name": "Python 3",
   "language": "python",
   "name": "python3"
  },
  "language_info": {
   "codemirror_mode": {
    "name": "ipython",
    "version": 3
   },
   "file_extension": ".py",
   "mimetype": "text/x-python",
   "name": "python",
   "nbconvert_exporter": "python",
   "pygments_lexer": "ipython3",
   "version": "3.13.4"
  }
 },
 "nbformat": 4,
 "nbformat_minor": 5
}
