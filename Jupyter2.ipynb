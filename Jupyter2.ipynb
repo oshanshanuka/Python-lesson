{
 "cells": [
  {
   "cell_type": "code",
   "execution_count": 1,
   "id": "568f99cd",
   "metadata": {},
   "outputs": [
    {
     "name": "stdout",
     "output_type": "stream",
     "text": [
      "30\n"
     ]
    }
   ],
   "source": [
    "a=10\n",
    "b=20\n",
    "print(a+b)"
   ]
  },
  {
   "cell_type": "code",
   "execution_count": 4,
   "id": "a648747d",
   "metadata": {},
   "outputs": [
    {
     "name": "stdout",
     "output_type": "stream",
     "text": [
      "300\n"
     ]
    }
   ],
   "source": [
    "num_1=100\n",
    "num_2=200\n",
    "print(num_1+num_2)"
   ]
  },
  {
   "cell_type": "code",
   "execution_count": 7,
   "id": "b4bac034",
   "metadata": {},
   "outputs": [
    {
     "name": "stdout",
     "output_type": "stream",
     "text": [
      "35.5\n",
      "<class 'float'>\n",
      "<class 'int'>\n"
     ]
    }
   ],
   "source": [
    "num=25\n",
    "num1=10.5\n",
    "print(num+num1)\n",
    "print(type(num1))\n",
    "print(type(num))"
   ]
  },
  {
   "cell_type": "code",
   "execution_count": 8,
   "id": "205d4750",
   "metadata": {},
   "outputs": [
    {
     "name": "stdout",
     "output_type": "stream",
     "text": [
      "2500000000000.0\n",
      "<class 'float'>\n"
     ]
    }
   ],
   "source": [
    "num_5=2.5e12\n",
    "print(num_5)\n",
    "print(type(num_5))"
   ]
  },
  {
   "cell_type": "code",
   "execution_count": 9,
   "id": "9ecbdb61",
   "metadata": {},
   "outputs": [
    {
     "name": "stdout",
     "output_type": "stream",
     "text": [
      "5 <class 'int'>\n",
      "5.0 <class 'float'>\n"
     ]
    }
   ],
   "source": [
    "x=5\n",
    "y=float(x)\n",
    "print(x,type(x))\n",
    "print(y,type(y))"
   ]
  },
  {
   "cell_type": "code",
   "execution_count": 14,
   "id": "837f1c83",
   "metadata": {},
   "outputs": [
    {
     "name": "stdout",
     "output_type": "stream",
     "text": [
      "20.5 <class 'float'>\n",
      "20 <class 'int'>\n"
     ]
    }
   ],
   "source": [
    "y=20.5\n",
    "b=int(y)\n",
    "print(y,type(y))\n",
    "print(b,type(b))"
   ]
  },
  {
   "cell_type": "code",
   "execution_count": 1,
   "id": "bfbcd57d",
   "metadata": {},
   "outputs": [
    {
     "name": "stdout",
     "output_type": "stream",
     "text": [
      "[10, 'John', 3.14, True] <class 'list'>\n",
      "10\n",
      "John\n",
      "True\n",
      "[10, 'John', 3.14]\n",
      "[3.14, True]\n"
     ]
    }
   ],
   "source": [
    "my_list=[10,\"John\",3.14,True]\n",
    "print(my_list,type(my_list))\n",
    "\n",
    "print(my_list[0])\n",
    "print(my_list[1])\n",
    "print(my_list[-1])\n",
    "print(my_list[:3])\n",
    "print(my_list[2:])\n",
    "\n",
    "\n"
   ]
  },
  {
   "cell_type": "code",
   "execution_count": 2,
   "id": "4c0108e8",
   "metadata": {},
   "outputs": [
    {
     "name": "stdout",
     "output_type": "stream",
     "text": [
      "[1, 'kasun', 'Kate', 9.4, False, 'Dog']\n"
     ]
    }
   ],
   "source": [
    "my_list=[1,5,10.5,True,\"John\",1]\n",
    "my_list[1]=\"kasun\"\n",
    "my_list[2:]=[\"Kate\",9.4,False]\n",
    "my_list.append(\"Dog\")\n",
    "print(my_list)"
   ]
  },
  {
   "cell_type": "code",
   "execution_count": 35,
   "id": "acf8b320",
   "metadata": {},
   "outputs": [
    {
     "name": "stdout",
     "output_type": "stream",
     "text": [
      "[1, 'kasun', 'Cat', 'Kate', 9.4, False, 'Dog']\n"
     ]
    }
   ],
   "source": [
    "my_list.insert(2,\"Cat\")\n",
    "print(my_list)"
   ]
  },
  {
   "cell_type": "code",
   "execution_count": 2,
   "id": "6c2f4ee5",
   "metadata": {},
   "outputs": [
    {
     "name": "stdout",
     "output_type": "stream",
     "text": [
      "[10, 6, 4, 3, 2, 25, 10, 20]\n",
      "[6, 4, 3, 2, 25, 10, 20]\n"
     ]
    }
   ],
   "source": [
    "my_list_1=[10,6,4,3,2]\n",
    "my_list_2=[25,10,20]\n",
    "my_list_1.extend(my_list_2)\n",
    "print(my_list_1)\n",
    "print(my_list_1[1:8])"
   ]
  },
  {
   "cell_type": "code",
   "execution_count": 38,
   "id": "5883b52b",
   "metadata": {},
   "outputs": [
    {
     "name": "stdout",
     "output_type": "stream",
     "text": [
      "[10, 'cat', 5, 'apple', 28]\n",
      "[10, 'apple', 28]\n"
     ]
    }
   ],
   "source": [
    "my_list=[10,\"cat\",5,\"apple\",28]\n",
    "print(my_list)\n",
    "my_list.remove(\"cat\")\n",
    "my_list.pop(1)\n",
    "print(my_list)"
   ]
  },
  {
   "cell_type": "code",
   "execution_count": 46,
   "id": "1d9278ca",
   "metadata": {},
   "outputs": [
    {
     "name": "stdout",
     "output_type": "stream",
     "text": [
      "['Farah', 'Ishan', 'Binu', 'Chamara', 'Dilani']\n",
      "5\n",
      "['Farah', 'Ishan', 'Chamara', 'Dilani']\n"
     ]
    }
   ],
   "source": [
    "students=[\"Amal\",\"Binu\",\"Chamara\"]\n",
    "students.remove(\"Amal\")\n",
    "students.insert(0,\"Farah\")\n",
    "students.insert(1,\"Ishan\")\n",
    "students.append(\"Dilani\")\n",
    "print(students)\n",
    "print(len(students))\n",
    "del students[2]\n",
    "print(students)"
   ]
  },
  {
   "cell_type": "code",
   "execution_count": 47,
   "id": "29a95269",
   "metadata": {},
   "outputs": [
    {
     "ename": "NameError",
     "evalue": "name 'my_list' is not defined",
     "output_type": "error",
     "traceback": [
      "\u001b[31m---------------------------------------------------------------------------\u001b[39m",
      "\u001b[31mNameError\u001b[39m                                 Traceback (most recent call last)",
      "\u001b[36mCell\u001b[39m\u001b[36m \u001b[39m\u001b[32mIn[47]\u001b[39m\u001b[32m, line 3\u001b[39m\n\u001b[32m      1\u001b[39m my_list=[\u001b[32m10\u001b[39m,\u001b[32m20\u001b[39m,\u001b[32m30\u001b[39m,\u001b[32m40\u001b[39m,\u001b[32m50\u001b[39m]\n\u001b[32m      2\u001b[39m \u001b[38;5;28;01mdel\u001b[39;00m my_list\n\u001b[32m----> \u001b[39m\u001b[32m3\u001b[39m \u001b[38;5;28mprint\u001b[39m(\u001b[38;5;28mlen\u001b[39m(\u001b[43mmy_list\u001b[49m))  \u001b[38;5;66;03m# This will raise an error since my_list is deleted\u001b[39;00m\n",
      "\u001b[31mNameError\u001b[39m: name 'my_list' is not defined"
     ]
    }
   ],
   "source": [
    "my_list=[10,20,30,40,50]\n",
    "del my_list\n",
    "print(len(my_list))  # This will raise an error since my_list is deleted"
   ]
  },
  {
   "cell_type": "code",
   "execution_count": 48,
   "id": "ea365490",
   "metadata": {},
   "outputs": [
    {
     "name": "stdout",
     "output_type": "stream",
     "text": [
      "[]\n",
      "0\n"
     ]
    }
   ],
   "source": [
    "my_list=[10,20,30,40,50]\n",
    "my_list.clear()\n",
    "print(my_list)\n",
    "print(len(my_list))"
   ]
  },
  {
   "cell_type": "code",
   "execution_count": 50,
   "id": "0c244162",
   "metadata": {},
   "outputs": [
    {
     "name": "stdout",
     "output_type": "stream",
     "text": [
      "['Dog', 'apple', 'banana', 'dog', 'kiwi', 'orange']\n"
     ]
    }
   ],
   "source": [
    "my_list=[\"banana\",\"apple\",\"orange\",\"kiwi\",\"dog\",\"Dog\"]\n",
    "my_list.sort()\n",
    "print(my_list)"
   ]
  },
  {
   "cell_type": "code",
   "execution_count": null,
   "id": "e3356e74",
   "metadata": {},
   "outputs": [
    {
     "name": "stdout",
     "output_type": "stream",
     "text": [
      "[1, 2, 3, 4, 5, 8]\n",
      "[8, 5, 4, 3, 2, 1]\n"
     ]
    }
   ],
   "source": [
    "num_list=[5,8,4,2,1,3]\n",
    "num_list.sort()\n",
    "print(num_list)\n",
    "num_list.sort(reverse=True)\n",
    "print(num_list)"
   ]
  },
  {
   "cell_type": "code",
   "execution_count": 52,
   "id": "2a1d2550",
   "metadata": {},
   "outputs": [
    {
     "name": "stdout",
     "output_type": "stream",
     "text": [
      "[10, 20, 22, 40, 50]\n",
      "[10, 20, 22, 40, 50]\n"
     ]
    }
   ],
   "source": [
    "my_list_1=[10,20,30,40,50]\n",
    "my_list_2=my_list_1\n",
    "my_list_1[2]=22\n",
    "print(my_list_1)\n",
    "print(my_list_2)"
   ]
  },
  {
   "cell_type": "code",
   "execution_count": 54,
   "id": "49f3d0a1",
   "metadata": {},
   "outputs": [
    {
     "name": "stdout",
     "output_type": "stream",
     "text": [
      "[10, 12, 9, 4, 3] [10, 12, 9, 4, 3]\n",
      "[10, 15, 9, 4, 3] [10, 12, 9, 4, 3]\n"
     ]
    }
   ],
   "source": [
    "my_list_1=[10,12,9,4,3]\n",
    "my_list_2=my_list_1.copy()\n",
    "print(my_list_1, my_list_2)\n",
    "my_list_1[1]=15\n",
    "print(my_list_1, my_list_2)"
   ]
  },
  {
   "cell_type": "code",
   "execution_count": 55,
   "id": "b471e13b",
   "metadata": {},
   "outputs": [
    {
     "name": "stdout",
     "output_type": "stream",
     "text": [
      "[3, 4, 9, 12, 10]\n"
     ]
    }
   ],
   "source": [
    "my_list_1=[10,12,9,4,3]\n",
    "my_list_1.reverse()\n",
    "print(my_list_1)"
   ]
  },
  {
   "cell_type": "code",
   "execution_count": 56,
   "id": "ff2f3a4e",
   "metadata": {},
   "outputs": [
    {
     "name": "stdout",
     "output_type": "stream",
     "text": [
      "[10, 20, 30, 40, 50, 60, 70, 80, 90, 100]\n"
     ]
    }
   ],
   "source": [
    "my_list_1=[10,20,30,40,50]\n",
    "my_list_2=[60,70,80,90,100]\n",
    "my_list_3=my_list_1+my_list_2\n",
    "print(my_list_3)"
   ]
  },
  {
   "cell_type": "code",
   "execution_count": null,
   "id": "b4af12cd",
   "metadata": {},
   "outputs": [
    {
     "name": "stdout",
     "output_type": "stream",
     "text": [
      "[90, 70, 50, 40, 30, 20, 10]\n",
      "[2, 5, 4, 3, 1, 9, 7] [2, 5, 4, 3, 1, 9, 7]\n"
     ]
    }
   ],
   "source": [
    "my_list_1=[2,5,4,3,1,9,7]\n",
    "my_list_2=[20,50,40,30,10,90,70]\n",
    "# print(len(my_list_1))\n",
    "# print(type(my_list_2))\n",
    "# print(my_list_2)\n",
    "# my_list_1.sort()\n",
    "# my_list_2.sort(reverse=True)\n",
    "# print(my_list_1)\n",
    "# print(my_list_2)\n",
    "\n",
    "# my_list_1.append(100)\n",
    "# print(my_list_1)\n",
    "\n",
    "# my_list_1.extend(my_list_2)\n",
    "# print(my_list_1)\n",
    "\n",
    "# my_list_2.remove(20)\n",
    "# print(my_list_2)\n",
    "\n",
    "# my_list_2.pop(2)\n",
    "# print(my_list_2)\n",
    "\n",
    "# my_list_2.insert(2,44)\n",
    "# print(my_list_2)\n",
    "\n",
    "# my_list_2[2]=40\n",
    "# print(my_list_2)\n",
    "\n",
    "# my_list_2.clear\n",
    "# print(my_list_1)\n",
    "# print(my_list_2)\n",
    "# print(len(my_list_2))\n",
    "\n",
    "my_list_2=my_list_1.copy()\n",
    "print(my_list_1,my_list_2)"
   ]
  }
 ],
 "metadata": {
  "kernelspec": {
   "display_name": "Python 3",
   "language": "python",
   "name": "python3"
  },
  "language_info": {
   "codemirror_mode": {
    "name": "ipython",
    "version": 3
   },
   "file_extension": ".py",
   "mimetype": "text/x-python",
   "name": "python",
   "nbconvert_exporter": "python",
   "pygments_lexer": "ipython3",
   "version": "3.13.4"
  }
 },
 "nbformat": 4,
 "nbformat_minor": 5
}
